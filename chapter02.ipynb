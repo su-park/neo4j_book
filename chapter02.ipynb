{
 "cells": [
  {
   "cell_type": "code",
   "execution_count": null,
   "metadata": {},
   "outputs": [],
   "source": [
    "#from py2neo import Graph\n",
    "#graph = Graph(\"bolt://neo4j.sktai.io:30074\", auth=(\"neo4j\",\"!neo4j00\"))"
   ]
  },
  {
   "cell_type": "code",
   "execution_count": null,
   "metadata": {},
   "outputs": [],
   "source": [
    "# https://github.com/neo4j-contrib/neo4j-apoc-procedures/releases/tag/3.5.0.1\n",
    "#mv ./apoc-3.5.0.1-all.jar $Neo4J_HOME/plugins"
   ]
  },
  {
   "cell_type": "code",
   "execution_count": 2,
   "metadata": {},
   "outputs": [],
   "source": [
    "from neo4j import GraphDatabase\n",
    "class Neo4jConnection:\n",
    "    \n",
    "    def __init__(self, uri, user, pwd):\n",
    "        self.__uri = uri\n",
    "        self.__user = user\n",
    "        self.__pwd = pwd\n",
    "        self.__driver = None\n",
    "        try:\n",
    "            self.__driver = GraphDatabase.driver(self.__uri, auth=(self.__user, self.__pwd))\n",
    "        except Exception as e:\n",
    "            print(\"Failed to create the driver:\", e)\n",
    "        \n",
    "    def close(self):\n",
    "        if self.__driver is not None:\n",
    "            self.__driver.close()\n",
    "        \n",
    "    def query(self, query, db=None):\n",
    "        assert self.__driver is not None, \"Driver not initialized!\"\n",
    "        session = None\n",
    "        response = None\n",
    "        try: \n",
    "            session = self.__driver.session(database=db) if db is not None else self.__driver.session() \n",
    "            response = list(session.run(query))\n",
    "        except Exception as e:\n",
    "            print(\"Query failed:\", e)\n",
    "        finally: \n",
    "            if session is not None:\n",
    "                session.close()\n",
    "        return response"
   ]
  },
  {
   "cell_type": "code",
   "execution_count": 3,
   "metadata": {},
   "outputs": [],
   "source": [
    "gph_conn = Neo4jConnection(uri=\"bolt://neo4j.sktai.io:30074\", user=\"neo4j\", pwd=\"!neo4j00\")"
   ]
  },
  {
   "cell_type": "code",
   "execution_count": null,
   "metadata": {},
   "outputs": [],
   "source": [
    "## GRAPH TRAVERSAL"
   ]
  },
  {
   "cell_type": "code",
   "execution_count": 4,
   "metadata": {},
   "outputs": [
    {
     "data": {
      "text/plain": [
       "[]"
      ]
     },
     "execution_count": 4,
     "metadata": {},
     "output_type": "execute_result"
    }
   ],
   "source": [
    "gph_conn.query(\"\"\"\n",
    "               CREATE (FL:State {code: \"FL\", name: \"Florida\", population: 21500000})\n",
    "               CREATE (AL:State {code: \"AL\", name: \"Alabama\", population: 4900000})\n",
    "               CREATE (GA:State {code: \"GA\", name: \"Georgia\", population: 10600000})\n",
    "               CREATE (MS:State {code: \"MS\", name: \"Mississippi\", population: 3000000})\n",
    "               CREATE (TN:State {code: \"TN\", name: \"Tennessee\", population: 6800000})\n",
    "               CREATE (NC:State {code: \"NC\", name: \"North Carolina\", population: 10500000})\n",
    "               CREATE (SC:State {code: \"SC\", name: \"South Carolina\", population: 5100000})\n",
    "               \n",
    "               CREATE (FL)-[:SHARE_BORDER_WITH]->(AL) \n",
    "               CREATE (FL)-[:SHARE_BORDER_WITH]->(GA) \n",
    "               CREATE (AL)-[:SHARE_BORDER_WITH]->(MS) \n",
    "               CREATE (AL)-[:SHARE_BORDER_WITH]->(TN) \n",
    "               CREATE (GA)-[:SHARE_BORDER_WITH]->(AL) \n",
    "               CREATE (GA)-[:SHARE_BORDER_WITH]->(NC) \n",
    "               CREATE (GA)-[:SHARE_BORDER_WITH]->(SC) \n",
    "               CREATE (SC)-[:SHARE_BORDER_WITH]->(NC) \n",
    "               CREATE (TN)-[:SHARE_BORDER_WITH]->(MS) \n",
    "               CREATE (NC)-[:SHARE_BORDER_WITH]->(TN)\n",
    "               \"\"\")"
   ]
  },
  {
   "cell_type": "code",
   "execution_count": 5,
   "metadata": {},
   "outputs": [
    {
     "data": {
      "text/plain": [
       "[<Record n.name='Georgia'>, <Record n.name='Alabama'>]"
      ]
     },
     "execution_count": 5,
     "metadata": {},
     "output_type": "execute_result"
    }
   ],
   "source": [
    "gph_conn.query(\"\"\"\n",
    "               MATCH (:State {code: 'FL'})-[:SHARE_BORDER_WITH]-(n)\n",
    "               RETURN n.name\n",
    "               \"\"\")"
   ]
  },
  {
   "cell_type": "code",
   "execution_count": 6,
   "metadata": {},
   "outputs": [
    {
     "data": {
      "text/plain": [
       "[<Record state_name='Georgia' state_population=10600000>,\n",
       " <Record state_name='Alabama' state_population=4900000>]"
      ]
     },
     "execution_count": 6,
     "metadata": {},
     "output_type": "execute_result"
    }
   ],
   "source": [
    "gph_conn.query(\"\"\"\n",
    "               MATCH (:State {code: 'FL'})-[:SHARE_BORDER_WITH]-(n)\n",
    "               RETURN n.name AS state_name, n.population AS state_population\n",
    "               ORDER BY n.population DESC\n",
    "               \"\"\")"
   ]
  },
  {
   "cell_type": "code",
   "execution_count": null,
   "metadata": {},
   "outputs": [],
   "source": [
    "### 2-Hops away"
   ]
  },
  {
   "cell_type": "code",
   "execution_count": 7,
   "metadata": {},
   "outputs": [
    {
     "data": {
      "text/plain": [
       "[<Record n.name='Alabama'>,\n",
       " <Record n.name='North Carolina'>,\n",
       " <Record n.name='South Carolina'>,\n",
       " <Record n.name='Georgia'>,\n",
       " <Record n.name='Mississippi'>,\n",
       " <Record n.name='Tennessee'>]"
      ]
     },
     "execution_count": 7,
     "metadata": {},
     "output_type": "execute_result"
    }
   ],
   "source": [
    "gph_conn.query(\"\"\"\n",
    "               MATCH (:State {code: 'FL'})-[:SHARE_BORDER_WITH]-\n",
    "               (neighbor)-[:SHARE_BORDER_WITH]-(n)\n",
    "               RETURN n.name\n",
    "               \"\"\")"
   ]
  },
  {
   "cell_type": "code",
   "execution_count": 10,
   "metadata": {},
   "outputs": [
    {
     "data": {
      "text/plain": [
       "[<Record n.name='North Carolina'>,\n",
       " <Record n.name='South Carolina'>,\n",
       " <Record n.name='Mississippi'>,\n",
       " <Record n.name='Tennessee'>]"
      ]
     },
     "execution_count": 10,
     "metadata": {},
     "output_type": "execute_result"
    }
   ],
   "source": [
    "gph_conn.query(\"\"\"\n",
    "               MATCH (FL:State {code: 'FL'})-[:SHARE_BORDER_WITH]-\n",
    "               (neighbor)-[:SHARE_BORDER_WITH]-(n)\n",
    "               WHERE NOT (FL)-[:SHARE_BORDER_WITH]-(n)\n",
    "               RETURN n.name\n",
    "               \"\"\")"
   ]
  },
  {
   "cell_type": "code",
   "execution_count": 11,
   "metadata": {},
   "outputs": [
    {
     "data": {
      "text/plain": [
       "[<Record n.name='Tennessee'>,\n",
       " <Record n.name='Mississippi'>,\n",
       " <Record n.name='Georgia'>,\n",
       " <Record n.name='South Carolina'>,\n",
       " <Record n.name='North Carolina'>,\n",
       " <Record n.name='Alabama'>]"
      ]
     },
     "execution_count": 11,
     "metadata": {},
     "output_type": "execute_result"
    }
   ],
   "source": [
    "gph_conn.query(\"\"\"\n",
    "               MATCH (:State {code: 'FL'})-[:SHARE_BORDER_WITH*2]-(n)\n",
    "               RETURN n.name\n",
    "               \"\"\")"
   ]
  },
  {
   "cell_type": "code",
   "execution_count": 12,
   "metadata": {},
   "outputs": [
    {
     "data": {
      "text/plain": [
       "[]"
      ]
     },
     "execution_count": 12,
     "metadata": {},
     "output_type": "execute_result"
    }
   ],
   "source": [
    "gph_conn.query(\"\"\"\n",
    "               CREATE (:State {code: \"AK\", name: \"Alaska\", population: 700000})\n",
    "               \"\"\")"
   ]
  },
  {
   "cell_type": "code",
   "execution_count": 13,
   "metadata": {},
   "outputs": [
    {
     "data": {
      "text/plain": [
       "[]"
      ]
     },
     "execution_count": 13,
     "metadata": {},
     "output_type": "execute_result"
    }
   ],
   "source": [
    "gph_conn.query(\"\"\"\n",
    "               MATCH (n:State {code: 'AK'})-[:SHARE_BORDER_WITH]-(m)\n",
    "               RETURN n, m\n",
    "               \"\"\")"
   ]
  },
  {
   "cell_type": "code",
   "execution_count": 14,
   "metadata": {},
   "outputs": [
    {
     "data": {
      "text/plain": [
       "[<Record n.name='Alaska' m.name=None>]"
      ]
     },
     "execution_count": 14,
     "metadata": {},
     "output_type": "execute_result"
    }
   ],
   "source": [
    "gph_conn.query(\"\"\"\n",
    "               MATCH (n:State {code: 'AK'})\n",
    "               OPTIONAL MATCH (n)-[:SHARE_BORDER_WITH]-(m)\n",
    "               RETURN n.name, m.name\n",
    "               \"\"\")"
   ]
  },
  {
   "cell_type": "code",
   "execution_count": null,
   "metadata": {},
   "outputs": [],
   "source": [
    "## AGGREGATE"
   ]
  },
  {
   "cell_type": "code",
   "execution_count": 15,
   "metadata": {},
   "outputs": [
    {
     "data": {
      "text/plain": [
       "[<Record state_name='Florida' nbr_cnt=2>]"
      ]
     },
     "execution_count": 15,
     "metadata": {},
     "output_type": "execute_result"
    }
   ],
   "source": [
    "gph_conn.query(\"\"\"\n",
    "               MATCH (FL:State {code: 'FL'})-[:SHARE_BORDER_WITH]-(n)\n",
    "               RETURN FL.name AS state_name, COUNT(n.code) AS nbr_cnt\n",
    "               \"\"\")"
   ]
  },
  {
   "cell_type": "code",
   "execution_count": 17,
   "metadata": {},
   "outputs": [
    {
     "data": {
      "text/plain": [
       "[<Record state_name='Florida' state_population=21500000 rt=1.3870967741935485>,\n",
       " <Record state_name='Alabama' state_population=4900000 rt=0.11694510739856802>,\n",
       " <Record state_name='Georgia' state_population=10600000 rt=0.2523809523809524>,\n",
       " <Record state_name='Mississippi' state_population=3000000 rt=0.2564102564102564>,\n",
       " <Record state_name='Tennessee' state_population=6800000 rt=0.3695652173913043>,\n",
       " <Record state_name='North Carolina' state_population=10500000 rt=0.4666666666666667>,\n",
       " <Record state_name='South Carolina' state_population=5100000 rt=0.24170616113744076>]"
      ]
     },
     "execution_count": 17,
     "metadata": {},
     "output_type": "execute_result"
    }
   ],
   "source": [
    "gph_conn.query(\"\"\"\n",
    "               MATCH (s:State)-[:SHARE_BORDER_WITH]-(n)\n",
    "               WITH s.name AS state_name\n",
    "               ,    s.population AS state_population\n",
    "               ,    toFloat(SUM(n.population)) AS nbr_population\n",
    "               RETURN state_name, state_population, state_population / nbr_population AS rt\n",
    "               \"\"\")"
   ]
  },
  {
   "cell_type": "code",
   "execution_count": null,
   "metadata": {},
   "outputs": [],
   "source": [
    "## COLLECT & UNNEST"
   ]
  },
  {
   "cell_type": "code",
   "execution_count": 18,
   "metadata": {},
   "outputs": [
    {
     "data": {
      "text/plain": [
       "[<Record COLLECT(n.code)=['GA', 'AL']>]"
      ]
     },
     "execution_count": 18,
     "metadata": {},
     "output_type": "execute_result"
    }
   ],
   "source": [
    "gph_conn.query(\"\"\"\n",
    "               MATCH (:State {code: 'FL'})-[:SHARE_BORDER_WITH]-(n)\n",
    "               RETURN COLLECT(n.code)\n",
    "               \"\"\")"
   ]
  },
  {
   "cell_type": "code",
   "execution_count": 21,
   "metadata": {},
   "outputs": [
    {
     "data": {
      "text/plain": [
       "[<Record c='GA'>, <Record c='AL'>]"
      ]
     },
     "execution_count": 21,
     "metadata": {},
     "output_type": "execute_result"
    }
   ],
   "source": [
    "gph_conn.query(\"\"\"\n",
    "               MATCH (:State {code: 'FL'})-[:SHARE_BORDER_WITH]-(n)\n",
    "               WITH COLLECT(n.code) AS codes\n",
    "               UNWIND codes AS c\n",
    "               RETURN c\n",
    "               \"\"\")"
   ]
  },
  {
   "cell_type": "code",
   "execution_count": null,
   "metadata": {},
   "outputs": [],
   "source": [
    "## LOAD DATA"
   ]
  },
  {
   "cell_type": "code",
   "execution_count": 27,
   "metadata": {},
   "outputs": [
    {
     "data": {
      "text/plain": [
       "[]"
      ]
     },
     "execution_count": 27,
     "metadata": {},
     "output_type": "execute_result"
    }
   ],
   "source": [
    "gph_conn.query(\"\"\"\n",
    "               LOAD CSV WITH HEADERS FROM 'https://raw.githubusercontent.com/PacktPublishing/Hands-On-Graph-Analytics-with-Neo4j/master/Chapter02/data/usa_state_neighbors_edges.csv' AS row\n",
    "               FIELDTERMINATOR ';'\n",
    "               MERGE (n:State {code: row.code})\n",
    "               MERGE (m:State {code: row.neighbor_code})\n",
    "               MERGE (n)-[:SHARE_BORDER_WITH]-(m)\n",
    "               \"\"\")"
   ]
  },
  {
   "cell_type": "code",
   "execution_count": 31,
   "metadata": {},
   "outputs": [
    {
     "data": {
      "text/plain": [
       "[<Record nodes=[] relationships=[]>]"
      ]
     },
     "execution_count": 31,
     "metadata": {},
     "output_type": "execute_result"
    }
   ],
   "source": [
    "gph_conn.query(\"\"\"\n",
    "               CALL db.schema();\n",
    "               \"\"\")"
   ]
  },
  {
   "cell_type": "code",
   "execution_count": 45,
   "metadata": {},
   "outputs": [
    {
     "data": {
      "text/plain": [
       "[]"
      ]
     },
     "execution_count": 45,
     "metadata": {},
     "output_type": "execute_result"
    }
   ],
   "source": [
    "gph_conn.query(\"\"\"\n",
    "          MATCH (n)\n",
    "          DETACH DELETE n\n",
    "          \"\"\")"
   ]
  },
  {
   "cell_type": "code",
   "execution_count": 34,
   "metadata": {},
   "outputs": [
    {
     "data": {
      "text/plain": [
       "[]"
      ]
     },
     "execution_count": 34,
     "metadata": {},
     "output_type": "execute_result"
    }
   ],
   "source": [
    "gph_conn.query(\"\"\"\n",
    "               LOAD CSV WITH HEADERS FROM 'https://raw.githubusercontent.com/PacktPublishing/Hands-On-Graph-Analytics-with-Neo4j/master/Chapter02/data/usa_state_neighbors_all.csv' AS row\n",
    "               FIELDTERMINATOR ';'\n",
    "               WITH row.code AS state, SPLIT(row.neighbors, ',') AS nbrs\n",
    "               MERGE (a:State {code: state})\n",
    "               WITH a, nbrs\n",
    "               UNWIND nbrs AS nbr\n",
    "               WITH a, nbr\n",
    "               WHERE nbr <> ''\n",
    "               MERGE (b:State {code: nbr})\n",
    "               MERGE (a)-[:SHARE_BORDER_WITH]-(b)\n",
    "               \"\"\")"
   ]
  },
  {
   "cell_type": "code",
   "execution_count": 43,
   "metadata": {},
   "outputs": [
    {
     "data": {
      "text/plain": [
       "[<Record nodes=[] relationships=[]>]"
      ]
     },
     "execution_count": 43,
     "metadata": {},
     "output_type": "execute_result"
    }
   ],
   "source": [
    "gph_conn.query(\"\"\"\n",
    "               CALL db.schema();\n",
    "               \"\"\")"
   ]
  },
  {
   "cell_type": "code",
   "execution_count": 44,
   "metadata": {},
   "outputs": [
    {
     "data": {
      "text/plain": [
       "[]"
      ]
     },
     "execution_count": 44,
     "metadata": {},
     "output_type": "execute_result"
    }
   ],
   "source": [
    "gph_conn.query(\"\"\"\n",
    "               LOAD CSV WITH HEADERS FROM 'https://raw.githubusercontent.com/PacktPublishing/Hands-On-Graph-Analytics-with-Neo4j/master/Chapter02/data/usa_state_neighbors_edges.csv' AS row\n",
    "               FIELDTERMINATOR ';'\n",
    "               MERGE (n:State {code: row.code})\n",
    "               \"\"\")               \n",
    "gph_conn.query(\"\"\"\n",
    "               LOAD CSV WITH HEADERS FROM 'https://raw.githubusercontent.com/PacktPublishing/Hands-On-Graph-Analytics-with-Neo4j/master/Chapter02/data/usa_state_neighbors_edges.csv' AS row\n",
    "               FIELDTERMINATOR ';'\n",
    "               MERGE (m:State {code: row.neighbor_code})\n",
    "               \"\"\")\n",
    "gph_conn.query(\"\"\"\n",
    "               LOAD CSV WITH HEADERS FROM 'https://raw.githubusercontent.com/PacktPublishing/Hands-On-Graph-Analytics-with-Neo4j/master/Chapter02/data/usa_state_neighbors_edges.csv' AS row\n",
    "               FIELDTERMINATOR ';'\n",
    "               MATCH (n:State {code: row.code})\n",
    "               MATCH (m:State {code: row.neighbor_code})\n",
    "               MERGE (n)-[:SHARE_BORDER_WITH]-(m)\n",
    "               \"\"\")"
   ]
  },
  {
   "cell_type": "code",
   "execution_count": 50,
   "metadata": {},
   "outputs": [
    {
     "name": "stdout",
     "output_type": "stream",
     "text": [
      "Query failed: {code: Neo.ClientError.Statement.SyntaxError} {message: Invalid input 'b': expected 'r/R' or 'e/E' (line 2, column 2 (offset: 17))\n",
      "\"dbms.security.procedures.whitelist= apoc.load.*;\"\n",
      "                  ^}\n"
     ]
    }
   ],
   "source": [
    "gph_conn.query(\"\"\"\n",
    "               dbms.security.procedures.whitelist= apoc.load.*\n",
    "               CALL apoc.load.json('https://raw.githubusercontent.com/PacktPublishing/Hands-On-Graph-Analytics-with-Neo4j/master/Chapter02/data/neo4j_repos_github.json')\n",
    "               YIELD value AS item\n",
    "               RETURN item\n",
    "               LIMIT 1\n",
    "               \"\"\")"
   ]
  }
 ],
 "metadata": {
  "kernelspec": {
   "display_name": "Python 3",
   "language": "python",
   "name": "python3"
  },
  "language_info": {
   "codemirror_mode": {
    "name": "ipython",
    "version": 3
   },
   "file_extension": ".py",
   "mimetype": "text/x-python",
   "name": "python",
   "nbconvert_exporter": "python",
   "pygments_lexer": "ipython3",
   "version": "3.6.8"
  }
 },
 "nbformat": 4,
 "nbformat_minor": 4
}
