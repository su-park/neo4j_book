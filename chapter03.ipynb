{
 "cells": [
  {
   "cell_type": "code",
   "execution_count": null,
   "metadata": {},
   "outputs": [],
   "source": [
    "#from py2neo import Graph\n",
    "#graph = Graph(\"bolt://neo4j.sktai.io:30074\", auth=(\"neo4j\",\"!neo4j00\"))"
   ]
  },
  {
   "cell_type": "code",
   "execution_count": null,
   "metadata": {},
   "outputs": [],
   "source": [
    "# https://github.com/neo4j-contrib/neo4j-apoc-procedures/releases/tag/3.5.0.1\n",
    "#mv ./apoc-3.5.0.1-all.jar $Neo4J_HOME/plugins"
   ]
  },
  {
   "cell_type": "code",
   "execution_count": 1,
   "metadata": {},
   "outputs": [],
   "source": [
    "from neo4j import GraphDatabase\n",
    "class Neo4jConnection:\n",
    "    \n",
    "    def __init__(self, uri, user, pwd):\n",
    "        self.__uri = uri\n",
    "        self.__user = user\n",
    "        self.__pwd = pwd\n",
    "        self.__driver = None\n",
    "        try:\n",
    "            self.__driver = GraphDatabase.driver(self.__uri, auth=(self.__user, self.__pwd))\n",
    "        except Exception as e:\n",
    "            print(\"Failed to create the driver:\", e)\n",
    "        \n",
    "    def close(self):\n",
    "        if self.__driver is not None:\n",
    "            self.__driver.close()\n",
    "        \n",
    "    def query(self, query, db=None):\n",
    "        assert self.__driver is not None, \"Driver not initialized!\"\n",
    "        session = None\n",
    "        response = None\n",
    "        try: \n",
    "            session = self.__driver.session(database=db) if db is not None else self.__driver.session() \n",
    "            response = list(session.run(query))\n",
    "        except Exception as e:\n",
    "            print(\"Query failed:\", e)\n",
    "        finally: \n",
    "            if session is not None:\n",
    "                session.close()\n",
    "        return response"
   ]
  },
  {
   "cell_type": "code",
   "execution_count": 2,
   "metadata": {},
   "outputs": [],
   "source": [
    "#gph_conn = Neo4jConnection(uri=\"bolt://neo4j.sktai.io:30074\", user=\"neo4j\", pwd=\"!neo4j00\")\n",
    "#gph_conn = Neo4jConnection(uri=\"bolt://127.0.0.1:7687\", user=\"neo4j\", pwd=\"!neo4j00\")\n",
    "gph_conn = Neo4jConnection(uri=\"bolt://localhost:7687\", user=\"neo4j\", pwd=\"!neo4j00\")"
   ]
  },
  {
   "cell_type": "code",
   "execution_count": 3,
   "metadata": {},
   "outputs": [
    {
     "data": {
      "text/plain": [
       "[<Record nodes=[] relationships=[]>]"
      ]
     },
     "execution_count": 3,
     "metadata": {},
     "output_type": "execute_result"
    }
   ],
   "source": [
    "gph_conn.query(\"\"\"\n",
    "               CALL db.schema.visualization();\n",
    "               \"\"\")"
   ]
  },
  {
   "cell_type": "code",
   "execution_count": 4,
   "metadata": {},
   "outputs": [
    {
     "data": {
      "text/plain": [
       "[]"
      ]
     },
     "execution_count": 4,
     "metadata": {},
     "output_type": "execute_result"
    }
   ],
   "source": [
    "gph_conn.query(\"\"\"\n",
    "          MATCH (n)\n",
    "          DETACH DELETE n\n",
    "          \"\"\")"
   ]
  },
  {
   "cell_type": "code",
   "execution_count": null,
   "metadata": {},
   "outputs": [],
   "source": [
    "## SET LIBRARY"
   ]
  },
  {
   "cell_type": "code",
   "execution_count": null,
   "metadata": {},
   "outputs": [],
   "source": [
    "import numpy as np\n",
    "import pandas as pd"
   ]
  },
  {
   "cell_type": "code",
   "execution_count": null,
   "metadata": {},
   "outputs": [],
   "source": [
    "## SET WORK PATH"
   ]
  },
  {
   "cell_type": "code",
   "execution_count": null,
   "metadata": {},
   "outputs": [],
   "source": [
    "import os"
   ]
  },
  {
   "cell_type": "code",
   "execution_count": null,
   "metadata": {},
   "outputs": [],
   "source": [
    "#work_path = '/home/dmig/work/this-book/neo4j-book'\n",
    "work_path = '/Users/boO/data8/data.student/neo4j-book/neo4j-book'\n",
    "os.chdir(work_path)"
   ]
  },
  {
   "cell_type": "code",
   "execution_count": null,
   "metadata": {},
   "outputs": [],
   "source": [
    "tbl = pd.read_csv(\"{}/data/train.csv\".format(work_path))"
   ]
  },
  {
   "cell_type": "code",
   "execution_count": null,
   "metadata": {},
   "outputs": [],
   "source": [
    "tbl.shape"
   ]
  },
  {
   "cell_type": "code",
   "execution_count": null,
   "metadata": {},
   "outputs": [],
   "source": [
    "tbl.head()"
   ]
  },
  {
   "cell_type": "code",
   "execution_count": null,
   "metadata": {},
   "outputs": [],
   "source": [
    "node_id = np.union1d(tbl.source_node.unique(), tbl.destination_node.unique())\n",
    "# len(node_id) # 1,862,220\n",
    "#node_id = np.random.choice(node_id, size=100000, replace=False)\n",
    "node_id = pd.DataFrame(node_id, columns=['id:ID'])\n",
    "node_id[':LABEL'] = 'User'\n",
    "node_id.to_csv(\"{}/data/node.csv\".format(work_path), index=False)"
   ]
  },
  {
   "cell_type": "code",
   "execution_count": null,
   "metadata": {},
   "outputs": [],
   "source": [
    "tbl.columns = [':START_ID',':END_ID']\n",
    "tbl[':TYPE'] = 'IS_FRIENDS_WITH'\n",
    "tbl.to_csv(\"{}/data/edge.csv\".format(work_path), index=False)"
   ]
  },
  {
   "cell_type": "code",
   "execution_count": null,
   "metadata": {},
   "outputs": [],
   "source": [
    "## LOAD DATA"
   ]
  },
  {
   "cell_type": "code",
   "execution_count": null,
   "metadata": {},
   "outputs": [],
   "source": [
    "!bin/neo4j-admin import --nodes=import/node.csv --relationships=import/edge.csv"
   ]
  },
  {
   "cell_type": "code",
   "execution_count": null,
   "metadata": {},
   "outputs": [],
   "source": [
    "## IT NEVER ENDS\n",
    "gph_conn.query(\"\"\"\n",
    "               // USING PERIODIC COMMIT 500\n",
    "               LOAD CSV WITH HEADERS FROM 'file:///train.csv' AS row\n",
    "               MERGE (:User {id: row.source_node})\n",
    "               \"\"\")\n",
    "gph_conn.query(\"\"\"\n",
    "               LOAD CSV WITH HEADERS FROM 'file:///train.csv' AS row\n",
    "               MERGE (:User {id: row.destination_node})\n",
    "               \"\"\")\n",
    "gph_conn.query(\"\"\"\n",
    "               LOAD CSV WITH HEADERS FROM 'file:///train.csv' AS row\n",
    "               MATCH (s:User {id: row.source_node}) \n",
    "               MATCH (d:User {id: row.destination_node}) \n",
    "               MERGE (s)-[:IS_FRIENDS_WITH]->(d)\n",
    "               \"\"\")"
   ]
  },
  {
   "cell_type": "code",
   "execution_count": null,
   "metadata": {},
   "outputs": [],
   "source": [
    "gph_conn.query(\"\"\"\n",
    "               CALL db.schema();\n",
    "               \"\"\")"
   ]
  },
  {
   "cell_type": "code",
   "execution_count": null,
   "metadata": {},
   "outputs": [],
   "source": [
    "gph_conn.query(\"\"\"\n",
    "               PROFILE\n",
    "               MATCH (u {id:\"1\"})\n",
    "               RETURN u\n",
    "               \"\"\")"
   ]
  },
  {
   "cell_type": "code",
   "execution_count": null,
   "metadata": {},
   "outputs": [],
   "source": [
    "gph_conn.query(\"\"\"\n",
    "               PROFILE\n",
    "               MATCH (u:User {id:\"1\"})\n",
    "               RETURN u\n",
    "               \"\"\")"
   ]
  },
  {
   "cell_type": "code",
   "execution_count": null,
   "metadata": {},
   "outputs": [],
   "source": [
    "gph_conn.query(\"\"\"\n",
    "               CREATE INDEX ON :User(id)\n",
    "               \"\"\")"
   ]
  },
  {
   "cell_type": "code",
   "execution_count": null,
   "metadata": {},
   "outputs": [],
   "source": [
    "gph_conn.query(\"\"\"\n",
    "               PROFILE\n",
    "               MATCH (u:User {id:\"1\"})\n",
    "               RETURN u\n",
    "               \"\"\")"
   ]
  },
  {
   "cell_type": "code",
   "execution_count": null,
   "metadata": {},
   "outputs": [],
   "source": [
    "gph_conn.query(\"\"\"\n",
    "               MATCH (a:User {id:\"3\"})-[:IS_FRIENDS_WITH]->(b:User)\n",
    "               RETURN COUNT(b.id)\n",
    "               \"\"\")"
   ]
  },
  {
   "cell_type": "code",
   "execution_count": null,
   "metadata": {},
   "outputs": [],
   "source": [
    "gph_conn.query(\"\"\"\n",
    "               EXPLAIN\n",
    "               LOAD CSV WITH HEADERS FROM 'file:///train.csv' AS row\n",
    "               MATCH (s:User {id: row.source_node}) \n",
    "               MATCH (d:User {id: row.destination_node}) \n",
    "               MERGE (s)-[:IS_FRIENDS_WITH]->(d)\n",
    "               \"\"\")"
   ]
  },
  {
   "cell_type": "code",
   "execution_count": null,
   "metadata": {},
   "outputs": [],
   "source": [
    "gph_conn.query(\"\"\"\n",
    "               CALL apoc.load.json(\"neo4j_repos_github.json\")\n",
    "               YIELD value AS item \n",
    "               RETURN item \n",
    "               LIMIT 1\n",
    "               \"\"\")"
   ]
  },
  {
   "cell_type": "code",
   "execution_count": 5,
   "metadata": {},
   "outputs": [
    {
     "name": "stdout",
     "output_type": "stream",
     "text": [
      "Query failed: {code: Neo.ClientError.Procedure.ProcedureNotFound} {message: There is no procedure with the name `apoc.load.json` registered for this database instance. Please ensure you've spelled the procedure name correctly and that the procedure is properly deployed.}\n"
     ]
    }
   ],
   "source": [
    "gph_conn.query(\"\"\"\n",
    "               CALL apoc.load.json(\"neo4j_repos_github.json\")\n",
    "               YIELD value AS item\n",
    "               CREATE (\n",
    "                       r:Repository {\n",
    "                                     name: item.name\n",
    "               ,                     created_at: item.created_at\n",
    "               ,                     contributors_url: item.contributors_url\n",
    "               })\n",
    "               MERGE (u:User {login: item.owner.login})\n",
    "               CREATE (u)-[:OWNS]->(r)\n",
    "               \"\"\")"
   ]
  }
 ],
 "metadata": {
  "kernelspec": {
   "display_name": "Python 3",
   "language": "python",
   "name": "python3"
  },
  "language_info": {
   "codemirror_mode": {
    "name": "ipython",
    "version": 3
   },
   "file_extension": ".py",
   "mimetype": "text/x-python",
   "name": "python",
   "nbconvert_exporter": "python",
   "pygments_lexer": "ipython3",
   "version": "3.6.6"
  }
 },
 "nbformat": 4,
 "nbformat_minor": 4
}
