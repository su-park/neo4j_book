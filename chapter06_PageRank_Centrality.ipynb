{
 "cells": [
  {
   "cell_type": "code",
   "execution_count": null,
   "metadata": {},
   "outputs": [],
   "source": [
    "## AGENDA\n",
    "## - Page Rank"
   ]
  },
  {
   "cell_type": "code",
   "execution_count": null,
   "metadata": {},
   "outputs": [],
   "source": [
    "#from py2neo import Graph\n",
    "#graph = Graph(\"bolt://neo4j.sktai.io:30074\", auth=(\"neo4j\",\"!neo4j00\"))"
   ]
  },
  {
   "cell_type": "code",
   "execution_count": null,
   "metadata": {},
   "outputs": [],
   "source": [
    "# https://github.com/neo4j-contrib/neo4j-apoc-procedures/releases/tag/3.5.0.1\n",
    "#mv ./apoc-3.5.0.1-all.jar $Neo4J_HOME/plugins"
   ]
  },
  {
   "cell_type": "code",
   "execution_count": 1,
   "metadata": {},
   "outputs": [],
   "source": [
    "from neo4j import GraphDatabase\n",
    "class Neo4jConnection:\n",
    "    \n",
    "    def __init__(self, uri, user, pwd):\n",
    "        self.__uri = uri\n",
    "        self.__user = user\n",
    "        self.__pwd = pwd\n",
    "        self.__driver = None\n",
    "        try:\n",
    "            self.__driver = GraphDatabase.driver(self.__uri, auth=(self.__user, self.__pwd))\n",
    "        except Exception as e:\n",
    "            print(\"Failed to create the driver:\", e)\n",
    "        \n",
    "    def close(self):\n",
    "        if self.__driver is not None:\n",
    "            self.__driver.close()\n",
    "        \n",
    "    def query(self, query, db=None):\n",
    "        assert self.__driver is not None, \"Driver not initialized!\"\n",
    "        session = None\n",
    "        response = None\n",
    "        try: \n",
    "            session = self.__driver.session(database=db) if db is not None else self.__driver.session() \n",
    "            response = list(session.run(query))\n",
    "        except Exception as e:\n",
    "            print(\"Query failed:\", e)\n",
    "        finally: \n",
    "            if session is not None:\n",
    "                session.close()\n",
    "        return response"
   ]
  },
  {
   "cell_type": "code",
   "execution_count": 2,
   "metadata": {},
   "outputs": [],
   "source": [
    "#gph_conn = Neo4jConnection(uri=\"bolt://neo4j.sktai.io:30074\", user=\"neo4j\", pwd=\"!neo4j00\")\n",
    "#gph_conn = Neo4jConnection(uri=\"bolt://localhost:7687\", user=\"neo4j\", pwd=\"!neo4j00\")\n",
    "gph_conn = Neo4jConnection(uri=\"bolt://127.0.0.1:7687\", user=\"neo4j\", pwd=\"!neo4j00\")"
   ]
  },
  {
   "cell_type": "code",
   "execution_count": 3,
   "metadata": {},
   "outputs": [
    {
     "data": {
      "text/plain": [
       "[<Record nodes=[<Node id=-2 labels=frozenset({'Node'}) properties={'indexes': [], 'name': 'Node', 'constraints': []}>] relationships=[<Relationship id=-2 nodes=(<Node id=-2 labels=frozenset({'Node'}) properties={'indexes': [], 'name': 'Node', 'constraints': []}>, <Node id=-2 labels=frozenset({'Node'}) properties={'indexes': [], 'name': 'Node', 'constraints': []}>) type='LINKED_TO' properties={}>]>]"
      ]
     },
     "execution_count": 3,
     "metadata": {},
     "output_type": "execute_result"
    }
   ],
   "source": [
    "gph_conn.query(\"\"\"\n",
    "               CALL db.schema();\n",
    "               \"\"\")"
   ]
  },
  {
   "cell_type": "code",
   "execution_count": 4,
   "metadata": {},
   "outputs": [
    {
     "data": {
      "text/plain": [
       "[]"
      ]
     },
     "execution_count": 4,
     "metadata": {},
     "output_type": "execute_result"
    }
   ],
   "source": [
    "gph_conn.query(\"\"\"\n",
    "          MATCH (n)\n",
    "          DETACH DELETE n\n",
    "          \"\"\")"
   ]
  },
  {
   "cell_type": "code",
   "execution_count": null,
   "metadata": {},
   "outputs": [],
   "source": [
    "## SET DATA"
   ]
  },
  {
   "cell_type": "code",
   "execution_count": 5,
   "metadata": {},
   "outputs": [],
   "source": [
    "G = { \n",
    "    'A': {'B': 1, 'D': 1}, \n",
    "    'B': {'A': 1}, \n",
    "    'C': {'B': 1}, \n",
    "    'D': {'B': 1}, \n",
    "}"
   ]
  },
  {
   "cell_type": "code",
   "execution_count": null,
   "metadata": {},
   "outputs": [],
   "source": [
    "## Page Rank from scratch"
   ]
  },
  {
   "cell_type": "code",
   "execution_count": 11,
   "metadata": {},
   "outputs": [],
   "source": [
    "def page_rank(G, d=0.85, tolerance=0.01, max_iterations=50):\n",
    "    \"\"\"Returns the PageRank of the nodes in the graph.\n",
    "    :param dict G: the graph\n",
    "    :param float d: the damping factor\n",
    "    :param flat tol: tolerance to determine algorithm convergence\n",
    "    :param int max_iter: max number of iterations\n",
    "    \"\"\"\n",
    "    N = len(G)\n",
    "    pr = dict.fromkeys(G, 1.0)\n",
    "    print(\"======= Initialization\")\n",
    "    print(pr)\n",
    "    outgoing_degree = {k: len(v) for k, v in G.items()}\n",
    "\n",
    "    # main loop\n",
    "    for it in range(max_iterations):\n",
    "        print(\"======= Iteration\", it)\n",
    "        old_pr = dict(pr)\n",
    "        pr = dict.fromkeys(old_pr.keys(), 0)\n",
    "        for node in G:\n",
    "            for neighbor in G[node]:\n",
    "                pr[neighbor] += d * old_pr[node] / outgoing_degree[node]\n",
    "            pr[node] += (1 - d)\n",
    "        print(pr)\n",
    "        # check convergence\n",
    "        mean_diff_to_prev_pr = sum([abs(pr[n] - old_pr[n]) for n in G])/N\n",
    "        if mean_diff_to_prev_pr < tolerance:\n",
    "            return pr\n",
    "    raise Exception(\n",
    "        f'PageRank failed after max iteration = {max_iterations}'\n",
    "        f' (err={mean_diff_to_prev_pr} > tol = {tolerance})'\n",
    "    )"
   ]
  },
  {
   "cell_type": "code",
   "execution_count": 12,
   "metadata": {},
   "outputs": [
    {
     "name": "stdout",
     "output_type": "stream",
     "text": [
      "======= Initialization\n",
      "{'A': 1.0, 'B': 1.0, 'C': 1.0, 'D': 1.0}\n",
      "======= Iteration 0\n",
      "{'A': 1.0, 'B': 2.275, 'C': 0.15000000000000002, 'D': 0.575}\n",
      "======= Iteration 1\n",
      "{'A': 2.0837499999999998, 'B': 1.19125, 'C': 0.15000000000000002, 'D': 0.575}\n",
      "======= Iteration 2\n",
      "{'A': 1.1625625, 'B': 1.6518437499999998, 'C': 0.15000000000000002, 'D': 1.0355937499999999}\n",
      "======= Iteration 3\n",
      "{'A': 1.5540671874999998, 'B': 1.6518437499999998, 'C': 0.15000000000000002, 'D': 0.6440890625}\n",
      "======= Iteration 4\n",
      "{'A': 1.5540671874999998, 'B': 1.4854542578124998, 'C': 0.15000000000000002, 'D': 0.8104785546875}\n",
      "======= Iteration 5\n",
      "{'A': 1.412636119140625, 'B': 1.626885326171875, 'C': 0.15000000000000002, 'D': 0.8104785546875}\n",
      "======= Iteration 6\n",
      "{'A': 1.5328525272460936, 'B': 1.5667771221191407, 'C': 0.15000000000000002, 'D': 0.7503703506347656}\n",
      "======= Iteration 7\n",
      "{'A': 1.4817605538012697, 'B': 1.5667771221191404, 'C': 0.15000000000000002, 'D': 0.8014623240795897}\n",
      "======= Iteration 8\n",
      "{'A': 1.4817605538012693, 'B': 1.5884912108331908, 'C': 0.15000000000000002, 'D': 0.7797482353655396}\n",
      "======= Iteration 9\n",
      "{'A': 1.500217529208212, 'B': 1.570034235426248, 'C': 0.15000000000000002, 'D': 0.7797482353655394}\n"
     ]
    }
   ],
   "source": [
    "pr = page_rank(G)"
   ]
  },
  {
   "cell_type": "code",
   "execution_count": null,
   "metadata": {},
   "outputs": [],
   "source": [
    "## via GDS"
   ]
  },
  {
   "cell_type": "code",
   "execution_count": 15,
   "metadata": {},
   "outputs": [
    {
     "data": {
      "text/plain": [
       "[]"
      ]
     },
     "execution_count": 15,
     "metadata": {},
     "output_type": "execute_result"
    }
   ],
   "source": [
    "gph_conn.query(\"\"\"\n",
    "               CREATE (A:Node {name: \"A\"})\n",
    "               CREATE (B:Node {name: \"B\"})\n",
    "               CREATE (C:Node {name: \"C\"})\n",
    "               CREATE (D:Node {name: \"D\"})\n",
    "               \n",
    "               CREATE (A)-[:LINKED_TO {weight: 1}]->(B)\n",
    "               CREATE (A)-[:LINKED_TO {weight: 1}]->(D)\n",
    "               CREATE (B)-[:LINKED_TO {weight: 1}]->(A)\n",
    "               CREATE (C)-[:LINKED_TO {weight: 1}]->(B)\n",
    "               CREATE (D)-[:LINKED_TO {weight: 1}]->(B)\n",
    "               \"\"\")"
   ]
  },
  {
   "cell_type": "code",
   "execution_count": 16,
   "metadata": {},
   "outputs": [
    {
     "data": {
      "text/plain": [
       "[<Record graphName='graph' nodeProjection={'Node': {'properties': {}, 'label': 'Node'}} relationshipProjection={'LINKED_TO': {'orientation': 'NATURAL', 'aggregation': 'DEFAULT', 'type': 'LINKED_TO', 'properties': {}}} nodeCount=4 relationshipCount=5 createMillis=4>]"
      ]
     },
     "execution_count": 16,
     "metadata": {},
     "output_type": "execute_result"
    }
   ],
   "source": [
    "gph_conn.query(\"\"\"\n",
    "               CALL gds.graph.drop(\"graph\")\n",
    "               \"\"\")\n",
    "gph_conn.query(\"\"\"\n",
    "               CALL gds.graph.create(\"graph\", \"Node\", \"LINKED_TO\")\n",
    "               \"\"\")"
   ]
  },
  {
   "cell_type": "code",
   "execution_count": 17,
   "metadata": {},
   "outputs": [
    {
     "data": {
      "text/plain": [
       "[<Record nodeName='B' score=1.5238865334540603>,\n",
       " <Record nodeName='A' score=1.4373937157914038>,\n",
       " <Record nodeName='D' score=0.7569374122889712>,\n",
       " <Record nodeName='C' score=0.15000000000000002>]"
      ]
     },
     "execution_count": 17,
     "metadata": {},
     "output_type": "execute_result"
    }
   ],
   "source": [
    "gph_conn.query(\"\"\"\n",
    "               CALL gds.pageRank.stream(\"graph\", {})\n",
    "               YIELD nodeId, score\n",
    "               RETURN gds.util.asNode(nodeId).name AS nodeName, score\n",
    "               ORDER BY score DESC\n",
    "               \"\"\")"
   ]
  },
  {
   "cell_type": "code",
   "execution_count": 18,
   "metadata": {},
   "outputs": [
    {
     "data": {
      "text/plain": [
       "[<Record nodeName='B' score=18.965116918087006>,\n",
       " <Record nodeName='A' score=14.299190640449524>,\n",
       " <Record nodeName='D' score=10.795747071504593>,\n",
       " <Record nodeName='C' score=0.25>]"
      ]
     },
     "execution_count": 18,
     "metadata": {},
     "output_type": "execute_result"
    }
   ],
   "source": [
    "gph_conn.query(\"\"\"\n",
    "               CALL gds.alpha.eigenvector.stream(\"graph\", {})\n",
    "               YIELD nodeId, score\n",
    "               RETURN gds.util.asNode(nodeId).name AS nodeName, score\n",
    "               ORDER BY score DESC\n",
    "               \"\"\")"
   ]
  }
 ],
 "metadata": {
  "kernelspec": {
   "display_name": "Python 3",
   "language": "python",
   "name": "python3"
  },
  "language_info": {
   "codemirror_mode": {
    "name": "ipython",
    "version": 3
   },
   "file_extension": ".py",
   "mimetype": "text/x-python",
   "name": "python",
   "nbconvert_exporter": "python",
   "pygments_lexer": "ipython3",
   "version": "3.6.6"
  }
 },
 "nbformat": 4,
 "nbformat_minor": 4
}
