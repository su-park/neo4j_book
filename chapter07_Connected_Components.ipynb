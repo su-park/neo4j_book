{
 "cells": [
  {
   "cell_type": "code",
   "execution_count": null,
   "metadata": {},
   "outputs": [],
   "source": [
    "## AGENDA\n",
    "## - Page Rank"
   ]
  },
  {
   "cell_type": "code",
   "execution_count": null,
   "metadata": {},
   "outputs": [],
   "source": [
    "#from py2neo import Graph\n",
    "#graph = Graph(\"bolt://neo4j.sktai.io:30074\", auth=(\"neo4j\",\"!neo4j00\"))"
   ]
  },
  {
   "cell_type": "code",
   "execution_count": null,
   "metadata": {},
   "outputs": [],
   "source": [
    "# https://github.com/neo4j-contrib/neo4j-apoc-procedures/releases/tag/3.5.0.1\n",
    "#mv ./apoc-3.5.0.1-all.jar $Neo4J_HOME/plugins"
   ]
  },
  {
   "cell_type": "code",
   "execution_count": 1,
   "metadata": {},
   "outputs": [],
   "source": [
    "from neo4j import GraphDatabase\n",
    "class Neo4jConnection:\n",
    "    \n",
    "    def __init__(self, uri, user, pwd):\n",
    "        self.__uri = uri\n",
    "        self.__user = user\n",
    "        self.__pwd = pwd\n",
    "        self.__driver = None\n",
    "        try:\n",
    "            self.__driver = GraphDatabase.driver(self.__uri, auth=(self.__user, self.__pwd))\n",
    "        except Exception as e:\n",
    "            print(\"Failed to create the driver:\", e)\n",
    "        \n",
    "    def close(self):\n",
    "        if self.__driver is not None:\n",
    "            self.__driver.close()\n",
    "        \n",
    "    def query(self, query, db=None):\n",
    "        assert self.__driver is not None, \"Driver not initialized!\"\n",
    "        session = None\n",
    "        response = None\n",
    "        try: \n",
    "            session = self.__driver.session(database=db) if db is not None else self.__driver.session() \n",
    "            response = list(session.run(query))\n",
    "        except Exception as e:\n",
    "            print(\"Query failed:\", e)\n",
    "        finally: \n",
    "            if session is not None:\n",
    "                session.close()\n",
    "        return response"
   ]
  },
  {
   "cell_type": "code",
   "execution_count": 2,
   "metadata": {},
   "outputs": [],
   "source": [
    "#gph_conn = Neo4jConnection(uri=\"bolt://neo4j.sktai.io:30074\", user=\"neo4j\", pwd=\"!neo4j00\")\n",
    "#gph_conn = Neo4jConnection(uri=\"bolt://localhost:7687\", user=\"neo4j\", pwd=\"!neo4j00\")\n",
    "gph_conn = Neo4jConnection(uri=\"bolt://127.0.0.1:7687\", user=\"neo4j\", pwd=\"!neo4j00\")"
   ]
  },
  {
   "cell_type": "code",
   "execution_count": 3,
   "metadata": {},
   "outputs": [
    {
     "data": {
      "text/plain": [
       "[<Record nodes=[<Node id=-4 labels=frozenset({'Node'}) properties={'indexes': [], 'name': 'Node', 'constraints': []}>] relationships=[<Relationship id=-4 nodes=(<Node id=-4 labels=frozenset({'Node'}) properties={'indexes': [], 'name': 'Node', 'constraints': []}>, <Node id=-4 labels=frozenset({'Node'}) properties={'indexes': [], 'name': 'Node', 'constraints': []}>) type='LINKED_TO' properties={}>]>]"
      ]
     },
     "execution_count": 3,
     "metadata": {},
     "output_type": "execute_result"
    }
   ],
   "source": [
    "gph_conn.query(\"\"\"\n",
    "               CALL db.schema();\n",
    "               \"\"\")"
   ]
  },
  {
   "cell_type": "code",
   "execution_count": 4,
   "metadata": {},
   "outputs": [
    {
     "data": {
      "text/plain": [
       "[]"
      ]
     },
     "execution_count": 4,
     "metadata": {},
     "output_type": "execute_result"
    }
   ],
   "source": [
    "gph_conn.query(\"\"\"\n",
    "          MATCH (n)\n",
    "          DETACH DELETE n\n",
    "          \"\"\")"
   ]
  },
  {
   "cell_type": "code",
   "execution_count": null,
   "metadata": {},
   "outputs": [],
   "source": [
    "## SET DATA"
   ]
  },
  {
   "cell_type": "code",
   "execution_count": 5,
   "metadata": {},
   "outputs": [
    {
     "data": {
      "text/plain": [
       "[]"
      ]
     },
     "execution_count": 5,
     "metadata": {},
     "output_type": "execute_result"
    }
   ],
   "source": [
    "gph_conn.query(\"\"\"\n",
    "               MERGE (A:Node {name: \"A\"})\n",
    "               MERGE (B:Node {name: \"B\"})\n",
    "               MERGE (C:Node {name: \"C\"})\n",
    "               MERGE (D:Node {name: \"D\"})\n",
    "               MERGE (E:Node {name: \"E\"})\n",
    "               MERGE (F:Node {name: \"F\"})\n",
    "               MERGE (G:Node {name: \"G\"})\n",
    "               MERGE (Y:Node {name: \"Y\"})\n",
    "               MERGE (Z:Node {name: \"Z\"})\n",
    "\n",
    "               MERGE (A)-[:LINKED_TO]->(B)\n",
    "               MERGE (B)-[:LINKED_TO]->(C)\n",
    "               MERGE (C)-[:LINKED_TO]->(A)\n",
    "               MERGE (D)-[:LINKED_TO]->(C)\n",
    "               MERGE (D)-[:LINKED_TO]->(E)\n",
    "               MERGE (E)-[:LINKED_TO]->(D)\n",
    "               MERGE (E)-[:LINKED_TO]->(G)\n",
    "               MERGE (F)-[:LINKED_TO]->(E)\n",
    "               MERGE (G)-[:LINKED_TO]->(D)\n",
    "               MERGE (G)-[:LINKED_TO]->(F)\n",
    "               MERGE (Y)-[:LINKED_TO]->(Z)\n",
    "               MERGE (Z)-[:LINKED_TO]->(Y)\n",
    "               \"\"\")"
   ]
  },
  {
   "cell_type": "code",
   "execution_count": null,
   "metadata": {},
   "outputs": [],
   "source": [
    "## via GDS"
   ]
  },
  {
   "cell_type": "code",
   "execution_count": 7,
   "metadata": {},
   "outputs": [
    {
     "name": "stdout",
     "output_type": "stream",
     "text": [
      "Query failed: {code: Neo.ClientError.Procedure.ProcedureCallFailed} {message: Failed to invoke procedure `gds.graph.drop`: Caused by: java.lang.IllegalArgumentException: Graph with name `graph` does not exist and can't be removed.}\n"
     ]
    },
    {
     "data": {
      "text/plain": [
       "[<Record graphName='graph' nodeProjection={'Node': {'properties': {}, 'label': 'Node'}} relationshipProjection={'LINKED_TO': {'orientation': 'NATURAL', 'aggregation': 'DEFAULT', 'type': 'LINKED_TO', 'properties': {}}} nodeCount=9 relationshipCount=12 createMillis=10>]"
      ]
     },
     "execution_count": 7,
     "metadata": {},
     "output_type": "execute_result"
    }
   ],
   "source": [
    "gph_conn.query(\"\"\"\n",
    "               CALL gds.graph.drop(\"graph\")\n",
    "               \"\"\")\n",
    "gph_conn.query(\"\"\"\n",
    "               CALL gds.graph.create(\"graph\", \"Node\", \"LINKED_TO\")\n",
    "               \"\"\")"
   ]
  },
  {
   "cell_type": "code",
   "execution_count": 9,
   "metadata": {},
   "outputs": [
    {
     "data": {
      "text/plain": [
       "[<Record nodeName='Y' componentId=0>,\n",
       " <Record nodeName='Z' componentId=0>,\n",
       " <Record nodeName='A' componentId=2>,\n",
       " <Record nodeName='B' componentId=2>,\n",
       " <Record nodeName='C' componentId=2>,\n",
       " <Record nodeName='D' componentId=2>,\n",
       " <Record nodeName='E' componentId=2>,\n",
       " <Record nodeName='F' componentId=2>,\n",
       " <Record nodeName='G' componentId=2>]"
      ]
     },
     "execution_count": 9,
     "metadata": {},
     "output_type": "execute_result"
    }
   ],
   "source": [
    "gph_conn.query(\"\"\"\n",
    "               CALL gds.wcc.stream(\"graph\")\n",
    "               YIELD nodeId, componentId \n",
    "               RETURN gds.util.asNode(nodeId).name as nodeName, componentId \n",
    "               ORDER BY componentId\n",
    "               \"\"\")"
   ]
  },
  {
   "cell_type": "code",
   "execution_count": 11,
   "metadata": {},
   "outputs": [
    {
     "data": {
      "text/plain": [
       "[<Record nodeName='Y' componentId=0>,\n",
       " <Record nodeName='Z' componentId=0>,\n",
       " <Record nodeName='A' componentId=2>,\n",
       " <Record nodeName='B' componentId=2>,\n",
       " <Record nodeName='C' componentId=2>,\n",
       " <Record nodeName='D' componentId=5>,\n",
       " <Record nodeName='E' componentId=5>,\n",
       " <Record nodeName='F' componentId=5>,\n",
       " <Record nodeName='G' componentId=5>]"
      ]
     },
     "execution_count": 11,
     "metadata": {},
     "output_type": "execute_result"
    }
   ],
   "source": [
    "gph_conn.query(\"\"\"\n",
    "               CALL gds.alpha.scc.stream(\"graph\")\n",
    "               YIELD nodeId, componentId \n",
    "               RETURN gds.util.asNode(nodeId).name as nodeName, componentId \n",
    "               ORDER BY componentId\n",
    "               \"\"\")"
   ]
  },
  {
   "cell_type": "code",
   "execution_count": 13,
   "metadata": {},
   "outputs": [
    {
     "data": {
      "text/plain": [
       "[<Record nodePropertiesWritten=9 createMillis=0 computeMillis=0 writeMillis=13 postProcessingMillis=2 componentCount=2 componentDistribution={'p99': 7, 'min': 2, 'max': 7, 'mean': 4.5, 'p90': 7, 'p50': 2, 'p999': 7, 'p95': 7, 'p75': 7} configuration={'writeConcurrency': 4, 'consecutiveIds': False, 'seedProperty': None, 'writeProperty': 'wcc', 'threshold': 0.0, 'relationshipWeightProperty': None, 'nodeLabels': ['*'], 'sudo': False, 'relationshipTypes': ['*'], 'concurrency': 4}>]"
      ]
     },
     "execution_count": 13,
     "metadata": {},
     "output_type": "execute_result"
    }
   ],
   "source": [
    "gph_conn.query(\"\"\"\n",
    "               CALL gds.wcc.write(\"graph\", {writeProperty:'wcc'})\n",
    "               \"\"\")"
   ]
  },
  {
   "cell_type": "code",
   "execution_count": 14,
   "metadata": {},
   "outputs": [
    {
     "data": {
      "text/plain": [
       "[<Record nodeName='Y' n.wcc=0>,\n",
       " <Record nodeName='Z' n.wcc=0>,\n",
       " <Record nodeName='A' n.wcc=2>,\n",
       " <Record nodeName='B' n.wcc=2>,\n",
       " <Record nodeName='C' n.wcc=2>,\n",
       " <Record nodeName='D' n.wcc=2>,\n",
       " <Record nodeName='E' n.wcc=2>,\n",
       " <Record nodeName='F' n.wcc=2>,\n",
       " <Record nodeName='G' n.wcc=2>]"
      ]
     },
     "execution_count": 14,
     "metadata": {},
     "output_type": "execute_result"
    }
   ],
   "source": [
    "gph_conn.query(\"\"\"\n",
    "               MATCH (n:Node) \n",
    "               RETURN n.name as nodeName, n.wcc\n",
    "               \"\"\")"
   ]
  }
 ],
 "metadata": {
  "kernelspec": {
   "display_name": "Python 3",
   "language": "python",
   "name": "python3"
  },
  "language_info": {
   "codemirror_mode": {
    "name": "ipython",
    "version": 3
   },
   "file_extension": ".py",
   "mimetype": "text/x-python",
   "name": "python",
   "nbconvert_exporter": "python",
   "pygments_lexer": "ipython3",
   "version": "3.6.6"
  }
 },
 "nbformat": 4,
 "nbformat_minor": 4
}
