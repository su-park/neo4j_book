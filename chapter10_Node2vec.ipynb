{
 "cells": [
  {
   "cell_type": "code",
   "execution_count": null,
   "metadata": {},
   "outputs": [],
   "source": [
    "## AGENDA\n",
    "## - Link prediction"
   ]
  },
  {
   "cell_type": "code",
   "execution_count": null,
   "metadata": {},
   "outputs": [],
   "source": [
    "## SET LIBRARY"
   ]
  },
  {
   "cell_type": "code",
   "execution_count": 1,
   "metadata": {},
   "outputs": [
    {
     "name": "stderr",
     "output_type": "stream",
     "text": [
      "/Users/boO/.pyenv/versions/3.6.6/lib/python3.6/site-packages/pandas/compat/__init__.py:120: UserWarning: Could not import the lzma module. Your installed Python is incomplete. Attempting to use lzma compression will result in a RuntimeError.\n",
      "  warnings.warn(msg)\n"
     ]
    }
   ],
   "source": [
    "import os\n",
    "import numpy as np\n",
    "import pandas as pd\n",
    "import networkx as nx"
   ]
  },
  {
   "cell_type": "code",
   "execution_count": 2,
   "metadata": {},
   "outputs": [],
   "source": [
    "%matplotlib inline\n",
    "import matplotlib.pyplot as plt\n",
    "import seaborn as sns\n",
    "\n",
    "plt.rcParams.update({\n",
    "    'figure.figsize': (7.5, 7.5),\n",
    "    'axes.spines.right': False,\n",
    "    'axes.spines.left': False,\n",
    "    'axes.spines.top': False,\n",
    "    'axes.spines.bottom': False})"
   ]
  },
  {
   "cell_type": "code",
   "execution_count": null,
   "metadata": {},
   "outputs": [],
   "source": [
    "## SET WORK PATH"
   ]
  },
  {
   "cell_type": "code",
   "execution_count": 3,
   "metadata": {},
   "outputs": [],
   "source": [
    "#work_path = '/home/dmig/work/this-book/neo4j-book'\n",
    "work_path = '/Users/boO/data8/data.student/neo4j-book/neo4j-book'\n",
    "os.chdir(work_path)"
   ]
  },
  {
   "cell_type": "code",
   "execution_count": null,
   "metadata": {},
   "outputs": [],
   "source": [
    "#from py2neo import Graph\n",
    "#graph = Graph(\"bolt://neo4j.sktai.io:30074\", auth=(\"neo4j\",\"!neo4j00\"))"
   ]
  },
  {
   "cell_type": "code",
   "execution_count": null,
   "metadata": {},
   "outputs": [],
   "source": [
    "# https://github.com/neo4j-contrib/neo4j-apoc-procedures/releases/tag/3.5.0.1\n",
    "#mv ./apoc-3.5.0.1-all.jar $Neo4J_HOME/plugins"
   ]
  },
  {
   "cell_type": "code",
   "execution_count": null,
   "metadata": {},
   "outputs": [],
   "source": [
    "## SET GRAPH"
   ]
  },
  {
   "cell_type": "code",
   "execution_count": 4,
   "metadata": {},
   "outputs": [],
   "source": [
    "from neo4j import GraphDatabase\n",
    "class Neo4jConnection:\n",
    "    \n",
    "    def __init__(self, uri, user, pwd):\n",
    "        self.__uri = uri\n",
    "        self.__user = user\n",
    "        self.__pwd = pwd\n",
    "        self.__driver = None\n",
    "        try:\n",
    "            self.__driver = GraphDatabase.driver(self.__uri, auth=(self.__user, self.__pwd))\n",
    "        except Exception as e:\n",
    "            print(\"Failed to create the driver:\", e)\n",
    "        \n",
    "    def close(self):\n",
    "        if self.__driver is not None:\n",
    "            self.__driver.close()\n",
    "        \n",
    "    def query(self, query, db=None):\n",
    "        assert self.__driver is not None, \"Driver not initialized!\"\n",
    "        session = None\n",
    "        response = None\n",
    "        try: \n",
    "            session = self.__driver.session(database=db) if db is not None else self.__driver.session() \n",
    "            response = list(session.run(query))\n",
    "        except Exception as e:\n",
    "            print(\"Query failed:\", e)\n",
    "        finally: \n",
    "            if session is not None:\n",
    "                session.close()\n",
    "        return response"
   ]
  },
  {
   "cell_type": "code",
   "execution_count": 5,
   "metadata": {},
   "outputs": [],
   "source": [
    "#gph_conn = Neo4jConnection(uri=\"bolt://neo4j.sktai.io:30074\", user=\"neo4j\", pwd=\"!neo4j00\")\n",
    "#gph_conn = Neo4jConnection(uri=\"bolt://localhost:7687\", user=\"neo4j\", pwd=\"!neo4j00\")\n",
    "gph_conn = Neo4jConnection(uri=\"bolt://127.0.0.1:7687\", user=\"neo4j\", pwd=\"!neo4j00\")"
   ]
  },
  {
   "cell_type": "code",
   "execution_count": 6,
   "metadata": {},
   "outputs": [
    {
     "data": {
      "text/plain": [
       "[<Record nodes=[<Node id=-1 labels=frozenset({'member'}) properties={'indexes': [], 'name': 'member', 'constraints': []}>] relationships=[<Relationship id=-1 nodes=(<Node id=-1 labels=frozenset({'member'}) properties={'indexes': [], 'name': 'member', 'constraints': []}>, <Node id=-1 labels=frozenset({'member'}) properties={'indexes': [], 'name': 'member', 'constraints': []}>) type='LINKED_TO' properties={}>]>]"
      ]
     },
     "execution_count": 6,
     "metadata": {},
     "output_type": "execute_result"
    }
   ],
   "source": [
    "gph_conn.query(\"\"\"\n",
    "               CALL db.schema()\n",
    "               \"\"\")"
   ]
  },
  {
   "cell_type": "code",
   "execution_count": 7,
   "metadata": {},
   "outputs": [
    {
     "data": {
      "text/plain": [
       "array([[1],\n",
       "       [1],\n",
       "       [2],\n",
       "       [34],\n",
       "       [78],\n",
       "       [{'member': 34}],\n",
       "       [{'()-[:LINKED_TO]->()': 78, '(:member)-[:LINKED_TO]->()': 78, '()-[:LINKED_TO]->(:member)': 78}],\n",
       "       [{'LINKED_TO': 78}],\n",
       "       [{'relTypeCount': 1, 'propertyKeyCount': 2, 'labelCount': 1, 'nodeCount': 34, 'relCount': 78, 'labels': {'member': 34}, 'relTypes': {'()-[:LINKED_TO]->()': 78, '(:member)-[:LINKED_TO]->()': 78, '()-[:LINKED_TO]->(:member)': 78}}]],\n",
       "      dtype=object)"
      ]
     },
     "execution_count": 7,
     "metadata": {},
     "output_type": "execute_result"
    }
   ],
   "source": [
    "pd.DataFrame(gph_conn.query(\"\"\"\n",
    "               CALL apoc.meta.stats()\n",
    "               \"\"\")).T.values"
   ]
  },
  {
   "cell_type": "code",
   "execution_count": null,
   "metadata": {},
   "outputs": [],
   "source": [
    "gph_conn.query(\"\"\"\n",
    "          MATCH (n)\n",
    "          DETACH DELETE n\n",
    "          \"\"\")"
   ]
  },
  {
   "cell_type": "code",
   "execution_count": null,
   "metadata": {},
   "outputs": [],
   "source": [
    "## LOAD DATA"
   ]
  },
  {
   "cell_type": "code",
   "execution_count": 8,
   "metadata": {},
   "outputs": [],
   "source": [
    "gph = nx.karate_club_graph()\n",
    "pos = nx.spring_layout(gph, k=0.3)"
   ]
  },
  {
   "cell_type": "code",
   "execution_count": 9,
   "metadata": {},
   "outputs": [],
   "source": [
    "club_ids = [0, 0, 0, 0, 0, 0, 0, 0, 1, 1, 0, 0, 0, 0, 1, 1, 0, 0, 1, 0, 1, 0, 1, 1, 1, 1, 1, 1, 1, 1, 1, 1, 1, 1]\n",
    "for node_id, club_id in zip(gph.nodes, club_ids):\n",
    "    gph.nodes[node_id]['club'] = club_id"
   ]
  },
  {
   "cell_type": "code",
   "execution_count": 10,
   "metadata": {},
   "outputs": [
    {
     "data": {
      "image/png": "[encoded data removed]",
      "text/plain": [
       "<Figure size 540x540 with 1 Axes>"
      ]
     },
     "metadata": {},
     "output_type": "display_data"
    }
   ],
   "source": [
    "node_rgb = [sns.color_palette(\"Paired\")[0] if gph.nodes[node_id]['club']==0 else sns.color_palette(\"Paired\")[1] for node_id in gph]\n",
    "nx.draw_networkx(gph, label=True, node_color=node_rgb)"
   ]
  },
  {
   "cell_type": "code",
   "execution_count": null,
   "metadata": {},
   "outputs": [],
   "source": [
    "edge = nx.to_pandas_edgelist(gph)\n",
    "edge.columns = [\":START_ID\",\":END_ID\"]\n",
    "edge[':TYPE'] = 'LINKED_TO'\n",
    "edge.to_csv(\"{}/data/edge_karate.csv\".format(work_path), index=False)"
   ]
  },
  {
   "cell_type": "code",
   "execution_count": null,
   "metadata": {},
   "outputs": [],
   "source": [
    "node = pd.DataFrame(nx.nodes(gph))\n",
    "node.columns = ['id:ID']\n",
    "node[':LABEL'] = 'member'\n",
    "node['club'] = [0, 0, 0, 0, 0, 0, 0, 0, 1, 1, 0, 0, 0, 0, 1, 1, 0, 0, 1, 0, 1, 0, 1, 1, 1, 1, 1, 1, 1, 1, 1, 1, 1, 1]\n",
    "node.to_csv(\"{}/data/node_karate.csv\".format(work_path), index=False)"
   ]
  },
  {
   "cell_type": "code",
   "execution_count": null,
   "metadata": {},
   "outputs": [],
   "source": [
    "!bin/neo4j-admin import --nodes=import/node_karate.csv --relationships=import/edge_karate.csv"
   ]
  },
  {
   "cell_type": "code",
   "execution_count": null,
   "metadata": {},
   "outputs": [],
   "source": [
    "## via GDS"
   ]
  },
  {
   "cell_type": "code",
   "execution_count": 11,
   "metadata": {},
   "outputs": [
    {
     "name": "stdout",
     "output_type": "stream",
     "text": [
      "Query failed: {code: Neo.ClientError.Procedure.ProcedureCallFailed} {message: Failed to invoke procedure `gds.graph.drop`: Caused by: java.lang.IllegalArgumentException: Graph with name `graph` does not exist and can't be removed.}\n"
     ]
    },
    {
     "data": {
      "text/plain": [
       "[<Record graphName='graph' nodeProjection={'member': {'properties': {}, 'label': 'member'}} relationshipProjection={'LINKED_TO': {'orientation': 'UNDIRECTED', 'aggregation': 'DEFAULT', 'type': 'LINKED_TO', 'properties': {}}} nodeCount=34 relationshipCount=156 createMillis=34>]"
      ]
     },
     "execution_count": 11,
     "metadata": {},
     "output_type": "execute_result"
    }
   ],
   "source": [
    "gph_conn.query(\"\"\"\n",
    "               CALL gds.graph.drop(\"graph\")\n",
    "               \"\"\")\n",
    "gph_conn.query(\"\"\"\n",
    "               CALL gds.graph.create(\"graph\", \"member\", {LINKED_TO: {type: 'LINKED_TO', orientation: 'UNDIRECTED'}})\n",
    "               \"\"\")"
   ]
  },
  {
   "cell_type": "code",
   "execution_count": null,
   "metadata": {},
   "outputs": [],
   "source": [
    "## DEEP WALK "
   ]
  },
  {
   "cell_type": "code",
   "execution_count": 22,
   "metadata": {},
   "outputs": [
    {
     "data": {
      "text/plain": [
       "[<Record nodeIds=[0, 13, 3, 7, 1, 21, 1, 13, 3, 2, 13, 1, 3, 2, 7, 2, 28, 33, 8, 32, 29, 33, 29, 33, 20, 33, 32, 8, 30, 32, 20, 32, 2]>,\n",
       " <Record nodeIds=[0, 4, 0, 2, 28, 31, 25, 24, 31, 25, 24, 25, 31, 33, 9, 33, 15, 33, 19, 0, 6, 0, 10, 0, 5, 0, 19, 0, 4, 10, 0, 3, 13]>]"
      ]
     },
     "execution_count": 22,
     "metadata": {},
     "output_type": "execute_result"
    }
   ],
   "source": [
    "gph_conn.query(\"\"\"\n",
    "               MATCH (n:member {id: \"0\"}) \n",
    "               CALL gds.alpha.randomWalk.stream(\n",
    "               {\n",
    "                  nodeProjection: \"*\", \n",
    "                  relationshipProjection: { LINKED_TO: { type: \"LINKED_TO\", orientation: \"UNDIRECTED\" } }, \n",
    "                  start: id(n), walks: 2, steps: 32,\n",
    "                  inOut: 0.2, return: 1.0\n",
    "               }) \n",
    "               YIELD nodeIds \n",
    "               RETURN nodeIds\n",
    "               \"\"\")"
   ]
  },
  {
   "cell_type": "code",
   "execution_count": 24,
   "metadata": {},
   "outputs": [
    {
     "name": "stdout",
     "output_type": "stream",
     "text": [
      "Query failed: {code: Neo.ClientError.Procedure.ProcedureNotFound} {message: There is no procedure with the name `gds.alpha.node2vec.stream` registered for this database instance. Please ensure you've spelled the procedure name correctly and that the procedure is properly deployed.}\n"
     ]
    }
   ],
   "source": [
    "gph_conn.query(\"\"\"\n",
    "               CALL gds.alpha.node2vec.stream(\"graph\", {walksPerNode: 2, embeddingSize: 32})\n",
    "               \"\"\")"
   ]
  },
  {
   "cell_type": "code",
   "execution_count": null,
   "metadata": {},
   "outputs": [],
   "source": [
    "tbl = pd.read_csv(\"{}/data/graph_T1.edgelist.txt\".format(work_path), sep=\" \", header=None)\n",
    "tbl.columns = [\"mbr\", \"nbr\"]"
   ]
  },
  {
   "cell_type": "code",
   "execution_count": null,
   "metadata": {},
   "outputs": [],
   "source": [
    "tbl1 = pd.read_csv(\"{}/data/graph_T2.edgelist.txt\".format(work_path), sep=\" \", header=None)\n",
    "tbl1.columns = [\"mbr\", \"nbr\"]"
   ]
  },
  {
   "cell_type": "code",
   "execution_count": null,
   "metadata": {},
   "outputs": [],
   "source": [
    "tbl.head()"
   ]
  },
  {
   "cell_type": "code",
   "execution_count": null,
   "metadata": {},
   "outputs": [],
   "source": [
    "print(\"T1: {}\".format(tbl.shape))\n",
    "print(\"T2: {}\".format(tbl1.shape))"
   ]
  },
  {
   "cell_type": "code",
   "execution_count": null,
   "metadata": {},
   "outputs": [],
   "source": [
    "## Nodes added"
   ]
  },
  {
   "cell_type": "code",
   "execution_count": null,
   "metadata": {},
   "outputs": [],
   "source": [
    "pd.concat([tbl1, tbl, tbl]).drop_duplicates(keep=False)"
   ]
  },
  {
   "cell_type": "code",
   "execution_count": null,
   "metadata": {},
   "outputs": [],
   "source": [
    "## Nodes removed"
   ]
  },
  {
   "cell_type": "code",
   "execution_count": null,
   "metadata": {},
   "outputs": [],
   "source": [
    "pd.concat([tbl, tbl1, tbl1]).drop_duplicates(keep=False)"
   ]
  },
  {
   "cell_type": "code",
   "execution_count": null,
   "metadata": {},
   "outputs": [],
   "source": [
    "## Save node and edge"
   ]
  },
  {
   "cell_type": "code",
   "execution_count": null,
   "metadata": {},
   "outputs": [],
   "source": [
    "node_id = np.union1d(tbl.mbr.unique(), tbl.nbr.unique())\n",
    "print(\"number of nodes: {}\".format(len(node_id)))\n",
    "#node_id = np.random.choice(node_id, size=100000, replace=False)\n",
    "node_id = pd.DataFrame(node_id, columns=['id:ID'])\n",
    "node_id[':LABEL'] = 'User'\n",
    "node_id.to_csv(\"{}/data/node_t1.csv\".format(work_path), index=False)"
   ]
  },
  {
   "cell_type": "code",
   "execution_count": null,
   "metadata": {},
   "outputs": [],
   "source": [
    "tbl.columns = [':START_ID',':END_ID']\n",
    "tbl[':TYPE'] = 'IS_LINKED_TO'\n",
    "tbl.to_csv(\"{}/data/edge_t1.csv\".format(work_path), index=False)"
   ]
  },
  {
   "cell_type": "code",
   "execution_count": null,
   "metadata": {},
   "outputs": [],
   "source": [
    "## LOAD GRAPH"
   ]
  },
  {
   "cell_type": "code",
   "execution_count": null,
   "metadata": {},
   "outputs": [],
   "source": [
    "!bin/neo4j-admin import --nodes=import/node_t1.csv --relationships=import/edge_t1.csv"
   ]
  },
  {
   "cell_type": "code",
   "execution_count": null,
   "metadata": {},
   "outputs": [],
   "source": [
    "## same community"
   ]
  },
  {
   "cell_type": "code",
   "execution_count": null,
   "metadata": {},
   "outputs": [],
   "source": [
    "gph_conn.query(\"\"\"\n",
    "               MATCH (m:User {id: \"3\" })\n",
    "               MATCH (n:User {id: \"11\" }) \n",
    "               RETURN gds.alpha.linkprediction.sameCommunity(m, n, \"louvain\") as sameCommunity\n",
    "               \"\"\")"
   ]
  },
  {
   "cell_type": "code",
   "execution_count": null,
   "metadata": {},
   "outputs": [],
   "source": [
    "## distance-based"
   ]
  },
  {
   "cell_type": "code",
   "execution_count": null,
   "metadata": {},
   "outputs": [],
   "source": [
    "gph_conn.query(\"\"\"\n",
    "               CALL gds.graph.drop(\"graph\")\n",
    "               \"\"\")\n",
    "gph_conn.query(\"\"\"\n",
    "               CALL gds.graph.create(\"graph\", \"User\", {IS_LINKED_TO: {type: 'IS_LINKED_TO', orientation: 'UNDIRECTED', aggregation: 'SINGLE'}})\n",
    "               \"\"\")"
   ]
  },
  {
   "cell_type": "code",
   "execution_count": null,
   "metadata": {},
   "outputs": [],
   "source": [
    "gph_conn.query(\"\"\"\n",
    "               CALL gds.alpha.allShortestPaths.stream(\"graph\", {})\n",
    "               YIELD sourceNodeId, targetNodeId, distance\n",
    "               WITH gds.util.asNode(sourceNodeId) AS mbr, gds.util.asNode(targetNodeId) AS nbr, 1.0 / distance as score\n",
    "               WHERE NOT ((mbr)-[:IS_LINKED_TO]-(nbr))\n",
    "               RETURN mbr.id, nbr.id, score\n",
    "               LIMIT 10\n",
    "               \"\"\")"
   ]
  },
  {
   "cell_type": "code",
   "execution_count": null,
   "metadata": {},
   "outputs": [],
   "source": [
    "## Neighborhood-based"
   ]
  }
 ],
 "metadata": {
  "kernelspec": {
   "display_name": "Python 3",
   "language": "python",
   "name": "python3"
  },
  "language_info": {
   "codemirror_mode": {
    "name": "ipython",
    "version": 3
   },
   "file_extension": ".py",
   "mimetype": "text/x-python",
   "name": "python",
   "nbconvert_exporter": "python",
   "pygments_lexer": "ipython3",
   "version": "3.6.6"
  }
 },
 "nbformat": 4,
 "nbformat_minor": 4
}
