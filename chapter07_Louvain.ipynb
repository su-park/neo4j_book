{
 "cells": [
  {
   "cell_type": "code",
   "execution_count": null,
   "metadata": {},
   "outputs": [],
   "source": [
    "## AGENDA\n",
    "## - Page Rank"
   ]
  },
  {
   "cell_type": "code",
   "execution_count": null,
   "metadata": {},
   "outputs": [],
   "source": [
    "#from py2neo import Graph\n",
    "#graph = Graph(\"bolt://neo4j.sktai.io:30074\", auth=(\"neo4j\",\"!neo4j00\"))"
   ]
  },
  {
   "cell_type": "code",
   "execution_count": null,
   "metadata": {},
   "outputs": [],
   "source": [
    "# https://github.com/neo4j-contrib/neo4j-apoc-procedures/releases/tag/3.5.0.1\n",
    "#mv ./apoc-3.5.0.1-all.jar $Neo4J_HOME/plugins"
   ]
  },
  {
   "cell_type": "code",
   "execution_count": 1,
   "metadata": {},
   "outputs": [],
   "source": [
    "from neo4j import GraphDatabase\n",
    "class Neo4jConnection:\n",
    "    \n",
    "    def __init__(self, uri, user, pwd):\n",
    "        self.__uri = uri\n",
    "        self.__user = user\n",
    "        self.__pwd = pwd\n",
    "        self.__driver = None\n",
    "        try:\n",
    "            self.__driver = GraphDatabase.driver(self.__uri, auth=(self.__user, self.__pwd))\n",
    "        except Exception as e:\n",
    "            print(\"Failed to create the driver:\", e)\n",
    "        \n",
    "    def close(self):\n",
    "        if self.__driver is not None:\n",
    "            self.__driver.close()\n",
    "        \n",
    "    def query(self, query, db=None):\n",
    "        assert self.__driver is not None, \"Driver not initialized!\"\n",
    "        session = None\n",
    "        response = None\n",
    "        try: \n",
    "            session = self.__driver.session(database=db) if db is not None else self.__driver.session() \n",
    "            response = list(session.run(query))\n",
    "        except Exception as e:\n",
    "            print(\"Query failed:\", e)\n",
    "        finally: \n",
    "            if session is not None:\n",
    "                session.close()\n",
    "        return response"
   ]
  },
  {
   "cell_type": "code",
   "execution_count": 2,
   "metadata": {},
   "outputs": [],
   "source": [
    "#gph_conn = Neo4jConnection(uri=\"bolt://neo4j.sktai.io:30074\", user=\"neo4j\", pwd=\"!neo4j00\")\n",
    "#gph_conn = Neo4jConnection(uri=\"bolt://localhost:7687\", user=\"neo4j\", pwd=\"!neo4j00\")\n",
    "gph_conn = Neo4jConnection(uri=\"bolt://127.0.0.1:7687\", user=\"neo4j\", pwd=\"!neo4j00\")"
   ]
  },
  {
   "cell_type": "code",
   "execution_count": 3,
   "metadata": {},
   "outputs": [
    {
     "data": {
      "text/plain": [
       "[<Record nodes=[<Node id=-6 labels=frozenset({'Node'}) properties={'indexes': [], 'name': 'Node', 'constraints': []}>] relationships=[<Relationship id=-6 nodes=(<Node id=-6 labels=frozenset({'Node'}) properties={'indexes': [], 'name': 'Node', 'constraints': []}>, <Node id=-6 labels=frozenset({'Node'}) properties={'indexes': [], 'name': 'Node', 'constraints': []}>) type='LINKED_TO' properties={}>]>]"
      ]
     },
     "execution_count": 3,
     "metadata": {},
     "output_type": "execute_result"
    }
   ],
   "source": [
    "gph_conn.query(\"\"\"\n",
    "               CALL db.schema();\n",
    "               \"\"\")"
   ]
  },
  {
   "cell_type": "code",
   "execution_count": 4,
   "metadata": {},
   "outputs": [
    {
     "data": {
      "text/plain": [
       "[]"
      ]
     },
     "execution_count": 4,
     "metadata": {},
     "output_type": "execute_result"
    }
   ],
   "source": [
    "gph_conn.query(\"\"\"\n",
    "          MATCH (n)\n",
    "          DETACH DELETE n\n",
    "          \"\"\")"
   ]
  },
  {
   "cell_type": "code",
   "execution_count": null,
   "metadata": {},
   "outputs": [],
   "source": [
    "## SET DATA"
   ]
  },
  {
   "cell_type": "code",
   "execution_count": null,
   "metadata": {},
   "outputs": [],
   "source": [
    "G = {\n",
    "        'A': {'B': 1, 'C': 1},\n",
    "        'B': {'A': 1, 'C': 1},\n",
    "        'C': {'A': 1, 'B': 1, 'D': 1},\n",
    "        'D': {'C': 1, 'E': 1, 'G': 1},\n",
    "        'E': {'D': 1, 'F': 1, 'G': 1},\n",
    "        'F': {'E': 1, 'G': 1},\n",
    "        'G': {'D': 1, 'E': 1, 'F': 1},\n",
    "    }"
   ]
  },
  {
   "cell_type": "code",
   "execution_count": null,
   "metadata": {},
   "outputs": [],
   "source": [
    "## Label Propagation from scratch"
   ]
  },
  {
   "cell_type": "code",
   "execution_count": null,
   "metadata": {},
   "outputs": [],
   "source": [
    "def modularity(G, communities):\n",
    "    \"\"\"Compute Louvain modularity of graph G, given the partition `communities`.\n",
    "    :param dict G: the graph\n",
    "    :param dict communities: the communities each node is assigned to\n",
    "    \"\"\"\n",
    "    m = sum(\n",
    "        [w for _, neighbors in G.items() for _, w in neighbors.items()]\n",
    "    ) / 2.0\n",
    "    print(\"m =\", m)\n",
    "    ks = {k: sum([v for _, v in G[k].items()]) for k in G}\n",
    "    print(\"ks =\", ks)\n",
    "    Q = 0\n",
    "    for i in G:\n",
    "        for j in G:\n",
    "            if communities[i] != communities[j]:\n",
    "                # delta function, if c(i) != c(j), modularity does not change\n",
    "                continue\n",
    "            Aij = G[i].get(j, 0)\n",
    "            Q += 1 / (2 * m) * (\n",
    "                Aij - ks[i] * ks[j] / (2 * m)\n",
    "            )\n",
    "    return round(Q, 3)"
   ]
  },
  {
   "cell_type": "code",
   "execution_count": null,
   "metadata": {},
   "outputs": [],
   "source": [
    "## via GDS"
   ]
  },
  {
   "cell_type": "code",
   "execution_count": 5,
   "metadata": {},
   "outputs": [
    {
     "data": {
      "text/plain": [
       "[]"
      ]
     },
     "execution_count": 5,
     "metadata": {},
     "output_type": "execute_result"
    }
   ],
   "source": [
    "gph_conn.query(\"\"\"\n",
    "               MERGE (A:Node {name: \"A\"})\n",
    "               MERGE (B:Node {name: \"B\"})\n",
    "               MERGE (C:Node {name: \"C\"})\n",
    "               MERGE (D:Node {name: \"D\"})\n",
    "               MERGE (E:Node {name: \"E\"})\n",
    "               MERGE (F:Node {name: \"F\"})\n",
    "               MERGE (G:Node {name: \"G\"})\n",
    "               MERGE (Y:Node {name: \"Y\"})\n",
    "               MERGE (Z:Node {name: \"Z\"})\n",
    "\n",
    "               MERGE (A)-[:LINKED_TO]->(B)\n",
    "               MERGE (B)-[:LINKED_TO]->(C)\n",
    "               MERGE (C)-[:LINKED_TO]->(A)\n",
    "               MERGE (D)-[:LINKED_TO]->(C)\n",
    "               MERGE (D)-[:LINKED_TO]->(E)\n",
    "               MERGE (E)-[:LINKED_TO]->(D)\n",
    "               MERGE (E)-[:LINKED_TO]->(G)\n",
    "               MERGE (F)-[:LINKED_TO]->(E)\n",
    "               MERGE (G)-[:LINKED_TO]->(D)\n",
    "               MERGE (G)-[:LINKED_TO]->(F)\n",
    "               MERGE (Y)-[:LINKED_TO]->(Z)\n",
    "               MERGE (Z)-[:LINKED_TO]->(Y)\n",
    "               \"\"\")"
   ]
  },
  {
   "cell_type": "code",
   "execution_count": 6,
   "metadata": {},
   "outputs": [
    {
     "data": {
      "text/plain": [
       "[<Record graphName='graph' nodeProjection={'Node': {'properties': {}, 'label': 'Node'}} relationshipProjection={'LINKED_TO': {'orientation': 'UNDIRECTED', 'aggregation': 'DEFAULT', 'type': 'LINKED_TO', 'properties': {}}} nodeCount=9 relationshipCount=24 createMillis=19>]"
      ]
     },
     "execution_count": 6,
     "metadata": {},
     "output_type": "execute_result"
    }
   ],
   "source": [
    "gph_conn.query(\"\"\"\n",
    "               CALL gds.graph.drop(\"graph\")\n",
    "               \"\"\")\n",
    "gph_conn.query(\"\"\"\n",
    "               CALL gds.graph.create(\"graph\", \"Node\", {LINKED_TO: {type: 'LINKED_TO', orientation: 'UNDIRECTED'}})\n",
    "               \"\"\")"
   ]
  },
  {
   "cell_type": "code",
   "execution_count": 7,
   "metadata": {},
   "outputs": [
    {
     "data": {
      "text/plain": [
       "[<Record nodeName='A' communityId=1>,\n",
       " <Record nodeName='B' communityId=1>,\n",
       " <Record nodeName='C' communityId=1>,\n",
       " <Record nodeName='D' communityId=4>,\n",
       " <Record nodeName='E' communityId=4>,\n",
       " <Record nodeName='F' communityId=4>,\n",
       " <Record nodeName='G' communityId=4>,\n",
       " <Record nodeName='Y' communityId=8>,\n",
       " <Record nodeName='Z' communityId=8>]"
      ]
     },
     "execution_count": 7,
     "metadata": {},
     "output_type": "execute_result"
    }
   ],
   "source": [
    "gph_conn.query(\"\"\"\n",
    "               CALL gds.louvain.stream(\"graph\")\n",
    "               YIELD nodeId, communityId\n",
    "               RETURN gds.util.asNode(nodeId).name AS nodeName, communityId\n",
    "               ORDER BY communityId\n",
    "               \"\"\")"
   ]
  }
 ],
 "metadata": {
  "kernelspec": {
   "display_name": "Python 3",
   "language": "python",
   "name": "python3"
  },
  "language_info": {
   "codemirror_mode": {
    "name": "ipython",
    "version": 3
   },
   "file_extension": ".py",
   "mimetype": "text/x-python",
   "name": "python",
   "nbconvert_exporter": "python",
   "pygments_lexer": "ipython3",
   "version": "3.6.6"
  }
 },
 "nbformat": 4,
 "nbformat_minor": 4
}
