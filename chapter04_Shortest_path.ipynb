{
 "cells": [
  {
   "cell_type": "code",
   "execution_count": null,
   "metadata": {},
   "outputs": [],
   "source": [
    "## AGENDA\n",
    "## - Shortes path algorithms within NEO4j"
   ]
  },
  {
   "cell_type": "code",
   "execution_count": null,
   "metadata": {},
   "outputs": [],
   "source": [
    "#from py2neo import Graph\n",
    "#graph = Graph(\"bolt://neo4j.sktai.io:30074\", auth=(\"neo4j\",\"!neo4j00\"))"
   ]
  },
  {
   "cell_type": "code",
   "execution_count": null,
   "metadata": {},
   "outputs": [],
   "source": [
    "# https://github.com/neo4j-contrib/neo4j-apoc-procedures/releases/tag/3.5.0.1\n",
    "#mv ./apoc-3.5.0.1-all.jar $Neo4J_HOME/plugins"
   ]
  },
  {
   "cell_type": "code",
   "execution_count": 1,
   "metadata": {},
   "outputs": [],
   "source": [
    "from neo4j import GraphDatabase\n",
    "class Neo4jConnection:\n",
    "    \n",
    "    def __init__(self, uri, user, pwd):\n",
    "        self.__uri = uri\n",
    "        self.__user = user\n",
    "        self.__pwd = pwd\n",
    "        self.__driver = None\n",
    "        try:\n",
    "            self.__driver = GraphDatabase.driver(self.__uri, auth=(self.__user, self.__pwd))\n",
    "        except Exception as e:\n",
    "            print(\"Failed to create the driver:\", e)\n",
    "        \n",
    "    def close(self):\n",
    "        if self.__driver is not None:\n",
    "            self.__driver.close()\n",
    "        \n",
    "    def query(self, query, db=None):\n",
    "        assert self.__driver is not None, \"Driver not initialized!\"\n",
    "        session = None\n",
    "        response = None\n",
    "        try: \n",
    "            session = self.__driver.session(database=db) if db is not None else self.__driver.session() \n",
    "            response = list(session.run(query))\n",
    "        except Exception as e:\n",
    "            print(\"Query failed:\", e)\n",
    "        finally: \n",
    "            if session is not None:\n",
    "                session.close()\n",
    "        return response"
   ]
  },
  {
   "cell_type": "code",
   "execution_count": 2,
   "metadata": {},
   "outputs": [],
   "source": [
    "#gph_conn = Neo4jConnection(uri=\"bolt://neo4j.sktai.io:30074\", user=\"neo4j\", pwd=\"!neo4j00\")\n",
    "#gph_conn = Neo4jConnection(uri=\"bolt://localhost:7687\", user=\"neo4j\", pwd=\"!neo4j00\")\n",
    "gph_conn = Neo4jConnection(uri=\"bolt://127.0.0.1:7687\", user=\"neo4j\", pwd=\"!neo4j00\")"
   ]
  },
  {
   "cell_type": "code",
   "execution_count": 3,
   "metadata": {},
   "outputs": [
    {
     "data": {
      "text/plain": [
       "[<Record nodes=[] relationships=[]>]"
      ]
     },
     "execution_count": 3,
     "metadata": {},
     "output_type": "execute_result"
    }
   ],
   "source": [
    "gph_conn.query(\"\"\"\n",
    "               CALL db.schema();\n",
    "               \"\"\")"
   ]
  },
  {
   "cell_type": "code",
   "execution_count": 4,
   "metadata": {},
   "outputs": [
    {
     "data": {
      "text/plain": [
       "[]"
      ]
     },
     "execution_count": 4,
     "metadata": {},
     "output_type": "execute_result"
    }
   ],
   "source": [
    "gph_conn.query(\"\"\"\n",
    "          MATCH (n)\n",
    "          DETACH DELETE n\n",
    "          \"\"\")"
   ]
  },
  {
   "cell_type": "code",
   "execution_count": null,
   "metadata": {},
   "outputs": [],
   "source": [
    "## SET DATA"
   ]
  },
  {
   "cell_type": "code",
   "execution_count": 5,
   "metadata": {},
   "outputs": [
    {
     "data": {
      "text/plain": [
       "[]"
      ]
     },
     "execution_count": 5,
     "metadata": {},
     "output_type": "execute_result"
    }
   ],
   "source": [
    "gph_conn.query(\"\"\"\n",
    "               CREATE (A:Node {name: \"A\"})\n",
    "               CREATE (B:Node {name: \"B\"})\n",
    "               CREATE (C:Node {name: \"C\"})\n",
    "               CREATE (D:Node {name: \"D\"})\n",
    "               CREATE (E:Node {name: \"E\"})\n",
    "               \n",
    "               CREATE (A)-[:LINKED_TO {weight: 10}]->(B)\n",
    "               CREATE (A)-[:LINKED_TO {weight: 33}]->(C)\n",
    "               CREATE (A)-[:LINKED_TO {weight: 35}]->(D)\n",
    "               CREATE (B)-[:LINKED_TO {weight: 20}]->(C)\n",
    "               CREATE (C)-[:LINKED_TO {weight: 28}]->(D)\n",
    "               CREATE (C)-[:LINKED_TO {weight: 6 }]->(E)\n",
    "               CREATE (D)-[:LINKED_TO {weight: 40}]->(E)\n",
    "               \"\"\")"
   ]
  },
  {
   "cell_type": "code",
   "execution_count": null,
   "metadata": {},
   "outputs": [],
   "source": [
    "## PROJECT GRAPH"
   ]
  },
  {
   "cell_type": "code",
   "execution_count": 6,
   "metadata": {},
   "outputs": [
    {
     "data": {
      "text/plain": [
       "[<Record graphName='graph' nodeProjection={'Node': {'properties': {}, 'label': 'Node'}} relationshipProjection={'LINKED_TO': {'orientation': 'NATURAL', 'aggregation': 'DEFAULT', 'type': 'LINKED_TO', 'properties': {}}} nodeCount=5 relationshipCount=7 createMillis=33>]"
      ]
     },
     "execution_count": 6,
     "metadata": {},
     "output_type": "execute_result"
    }
   ],
   "source": [
    "gph_conn.query(\"\"\"\n",
    "               CALL gds.graph.create(\"graph\", \"Node\", \"LINKED_TO\")\n",
    "               \"\"\")"
   ]
  },
  {
   "cell_type": "code",
   "execution_count": null,
   "metadata": {},
   "outputs": [],
   "source": [
    "## Dijkstra's"
   ]
  },
  {
   "cell_type": "code",
   "execution_count": 8,
   "metadata": {},
   "outputs": [
    {
     "data": {
      "text/plain": [
       "[<Record name='A' cost=0.0>,\n",
       " <Record name='D' cost=1.0>,\n",
       " <Record name='E' cost=2.0>]"
      ]
     },
     "execution_count": 8,
     "metadata": {},
     "output_type": "execute_result"
    }
   ],
   "source": [
    "gph_conn.query(\"\"\"\n",
    "               MATCH (A:Node {name: \"A\"})\n",
    "               MATCH (E:Node {name: \"E\"})\n",
    "               CALL gds.alpha.shortestPath.stream(\"graph\", {startNode: A, endNode: E})\n",
    "               YIELD nodeId, cost \n",
    "               RETURN gds.util.asNode(nodeId).name as name, cost\n",
    "               \"\"\")"
   ]
  },
  {
   "cell_type": "code",
   "execution_count": 9,
   "metadata": {},
   "outputs": [
    {
     "name": "stdout",
     "output_type": "stream",
     "text": [
      "Query failed: {code: Neo.ClientError.Procedure.ProcedureCallFailed} {message: Failed to invoke procedure `gds.alpha.shortestPath.stream`: Caused by: java.lang.IllegalArgumentException: Relationship weight property `weight` not found in graph with relationship properties: []}\n"
     ]
    }
   ],
   "source": [
    "gph_conn.query(\"\"\"\n",
    "               MATCH (A:Node {name: \"A\"})\n",
    "               MATCH (E:Node {name: \"E\"})\n",
    "               CALL gds.alpha.shortestPath.stream(\"graph\", {startNode: A, endNode: E, relationshipWeightProperty: \"weight\"})\n",
    "               YIELD nodeId, cost \n",
    "               RETURN gds.util.asNode(nodeId).name as name, cost\n",
    "               \"\"\")"
   ]
  },
  {
   "cell_type": "code",
   "execution_count": 10,
   "metadata": {},
   "outputs": [
    {
     "data": {
      "text/plain": [
       "[<Record relationshipProjection={'LINKED_TO': {'orientation': 'NATURAL', 'aggregation': 'DEFAULT', 'type': 'LINKED_TO', 'properties': {}}}>]"
      ]
     },
     "execution_count": 10,
     "metadata": {},
     "output_type": "execute_result"
    }
   ],
   "source": [
    "gph_conn.query(\"\"\"\n",
    "               CALL gds.graph.list(\"graph\") \n",
    "               YIELD relationshipProjection \n",
    "               RETURN *\n",
    "               \"\"\")"
   ]
  },
  {
   "cell_type": "code",
   "execution_count": 11,
   "metadata": {},
   "outputs": [
    {
     "data": {
      "text/plain": [
       "[<Record graphName='graph_weighted' nodeProjection={'Node': {'properties': {}, 'label': 'Node'}} relationshipProjection={'LINKED_TO': {'orientation': 'NATURAL', 'aggregation': 'DEFAULT', 'type': 'LINKED_TO', 'properties': {'weight': {'property': 'weight', 'defaultValue': nan, 'aggregation': 'DEFAULT'}}}} nodeCount=5 relationshipCount=7 createMillis=16>]"
      ]
     },
     "execution_count": 11,
     "metadata": {},
     "output_type": "execute_result"
    }
   ],
   "source": [
    "gph_conn.query(\"\"\"\n",
    "               CALL gds.graph.create(\"graph_weighted\", \"Node\", \"LINKED_TO\", { relationshipProperties: [{weight: 'weight' }] } )\n",
    "               \"\"\")"
   ]
  },
  {
   "cell_type": "code",
   "execution_count": 12,
   "metadata": {},
   "outputs": [
    {
     "data": {
      "text/plain": [
       "[<Record relationshipProjection={'LINKED_TO': {'orientation': 'NATURAL', 'aggregation': 'DEFAULT', 'type': 'LINKED_TO', 'properties': {'weight': {'property': 'weight', 'defaultValue': nan, 'aggregation': 'DEFAULT'}}}}>]"
      ]
     },
     "execution_count": 12,
     "metadata": {},
     "output_type": "execute_result"
    }
   ],
   "source": [
    "gph_conn.query(\"\"\"\n",
    "               CALL gds.graph.list(\"graph_weighted\") \n",
    "               YIELD relationshipProjection \n",
    "               RETURN *\n",
    "               \"\"\")"
   ]
  },
  {
   "cell_type": "code",
   "execution_count": 13,
   "metadata": {},
   "outputs": [
    {
     "data": {
      "text/plain": [
       "[<Record name='A' cost=0.0>,\n",
       " <Record name='B' cost=10.0>,\n",
       " <Record name='C' cost=30.0>,\n",
       " <Record name='E' cost=36.0>]"
      ]
     },
     "execution_count": 13,
     "metadata": {},
     "output_type": "execute_result"
    }
   ],
   "source": [
    "gph_conn.query(\"\"\"\n",
    "               MATCH (A:Node {name: \"A\"})\n",
    "               MATCH (E:Node {name: \"E\"})\n",
    "               CALL gds.alpha.shortestPath.stream(\"graph_weighted\", {startNode: A, endNode: E, relationshipWeightProperty: \"weight\"})\n",
    "               YIELD nodeId, cost \n",
    "               RETURN gds.util.asNode(nodeId).name as name, cost\n",
    "               \"\"\")"
   ]
  },
  {
   "cell_type": "code",
   "execution_count": null,
   "metadata": {},
   "outputs": [],
   "source": [
    "## ADD PATHs"
   ]
  },
  {
   "cell_type": "code",
   "execution_count": 14,
   "metadata": {},
   "outputs": [
    {
     "data": {
      "text/plain": [
       "[]"
      ]
     },
     "execution_count": 14,
     "metadata": {},
     "output_type": "execute_result"
    }
   ],
   "source": [
    "gph_conn.query(\"\"\"\n",
    "               MATCH (A:Node {name: \"A\"})\n",
    "               MATCH (C:Node {name: \"C\"})\n",
    "               MATCH (E:Node {name: \"E\"})\n",
    "               \n",
    "               CREATE (C)-[:LINKED_TO {weight: 20}]->(A)\n",
    "               CREATE (E)-[:LINKED_TO {weight: 5}]->(C)\n",
    "               \"\"\")"
   ]
  }
 ],
 "metadata": {
  "kernelspec": {
   "display_name": "Python 3",
   "language": "python",
   "name": "python3"
  },
  "language_info": {
   "codemirror_mode": {
    "name": "ipython",
    "version": 3
   },
   "file_extension": ".py",
   "mimetype": "text/x-python",
   "name": "python",
   "nbconvert_exporter": "python",
   "pygments_lexer": "ipython3",
   "version": "3.6.6"
  }
 },
 "nbformat": 4,
 "nbformat_minor": 4
}
