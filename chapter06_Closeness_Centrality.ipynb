{
 "cells": [
  {
   "cell_type": "code",
   "execution_count": null,
   "metadata": {},
   "outputs": [],
   "source": [
    "## AGENDA\n",
    "## - Page Rank"
   ]
  },
  {
   "cell_type": "code",
   "execution_count": null,
   "metadata": {},
   "outputs": [],
   "source": [
    "#from py2neo import Graph\n",
    "#graph = Graph(\"bolt://neo4j.sktai.io:30074\", auth=(\"neo4j\",\"!neo4j00\"))"
   ]
  },
  {
   "cell_type": "code",
   "execution_count": null,
   "metadata": {},
   "outputs": [],
   "source": [
    "# https://github.com/neo4j-contrib/neo4j-apoc-procedures/releases/tag/3.5.0.1\n",
    "#mv ./apoc-3.5.0.1-all.jar $Neo4J_HOME/plugins"
   ]
  },
  {
   "cell_type": "code",
   "execution_count": 1,
   "metadata": {},
   "outputs": [],
   "source": [
    "from neo4j import GraphDatabase\n",
    "class Neo4jConnection:\n",
    "    \n",
    "    def __init__(self, uri, user, pwd):\n",
    "        self.__uri = uri\n",
    "        self.__user = user\n",
    "        self.__pwd = pwd\n",
    "        self.__driver = None\n",
    "        try:\n",
    "            self.__driver = GraphDatabase.driver(self.__uri, auth=(self.__user, self.__pwd))\n",
    "        except Exception as e:\n",
    "            print(\"Failed to create the driver:\", e)\n",
    "        \n",
    "    def close(self):\n",
    "        if self.__driver is not None:\n",
    "            self.__driver.close()\n",
    "        \n",
    "    def query(self, query, db=None):\n",
    "        assert self.__driver is not None, \"Driver not initialized!\"\n",
    "        session = None\n",
    "        response = None\n",
    "        try: \n",
    "            session = self.__driver.session(database=db) if db is not None else self.__driver.session() \n",
    "            response = list(session.run(query))\n",
    "        except Exception as e:\n",
    "            print(\"Query failed:\", e)\n",
    "        finally: \n",
    "            if session is not None:\n",
    "                session.close()\n",
    "        return response"
   ]
  },
  {
   "cell_type": "code",
   "execution_count": 2,
   "metadata": {},
   "outputs": [],
   "source": [
    "#gph_conn = Neo4jConnection(uri=\"bolt://neo4j.sktai.io:30074\", user=\"neo4j\", pwd=\"!neo4j00\")\n",
    "#gph_conn = Neo4jConnection(uri=\"bolt://localhost:7687\", user=\"neo4j\", pwd=\"!neo4j00\")\n",
    "gph_conn = Neo4jConnection(uri=\"bolt://127.0.0.1:7687\", user=\"neo4j\", pwd=\"!neo4j00\")"
   ]
  },
  {
   "cell_type": "code",
   "execution_count": 3,
   "metadata": {},
   "outputs": [
    {
     "data": {
      "text/plain": [
       "[<Record nodes=[<Node id=-3 labels=frozenset({'Node'}) properties={'indexes': [], 'name': 'Node', 'constraints': []}>] relationships=[<Relationship id=-3 nodes=(<Node id=-3 labels=frozenset({'Node'}) properties={'indexes': [], 'name': 'Node', 'constraints': []}>, <Node id=-3 labels=frozenset({'Node'}) properties={'indexes': [], 'name': 'Node', 'constraints': []}>) type='LINKED_TO' properties={}>]>]"
      ]
     },
     "execution_count": 3,
     "metadata": {},
     "output_type": "execute_result"
    }
   ],
   "source": [
    "gph_conn.query(\"\"\"\n",
    "               CALL db.schema();\n",
    "               \"\"\")"
   ]
  },
  {
   "cell_type": "code",
   "execution_count": 4,
   "metadata": {},
   "outputs": [
    {
     "data": {
      "text/plain": [
       "[]"
      ]
     },
     "execution_count": 4,
     "metadata": {},
     "output_type": "execute_result"
    }
   ],
   "source": [
    "gph_conn.query(\"\"\"\n",
    "          MATCH (n)\n",
    "          DETACH DELETE n\n",
    "          \"\"\")"
   ]
  },
  {
   "cell_type": "code",
   "execution_count": null,
   "metadata": {},
   "outputs": [],
   "source": [
    "## SET DATA"
   ]
  },
  {
   "cell_type": "code",
   "execution_count": 5,
   "metadata": {},
   "outputs": [
    {
     "data": {
      "text/plain": [
       "[]"
      ]
     },
     "execution_count": 5,
     "metadata": {},
     "output_type": "execute_result"
    }
   ],
   "source": [
    "gph_conn.query(\"\"\"\n",
    "               CREATE (A:Node {name: \"A\"})\n",
    "               CREATE (B:Node {name: \"B\"})\n",
    "               CREATE (C:Node {name: \"C\"})\n",
    "               CREATE (D:Node {name: \"D\"})\n",
    "               \n",
    "               CREATE (A)-[:LINKED_TO {weight: 1}]->(B)\n",
    "               CREATE (A)-[:LINKED_TO {weight: 1}]->(D)\n",
    "               CREATE (B)-[:LINKED_TO {weight: 1}]->(A)\n",
    "               CREATE (C)-[:LINKED_TO {weight: 1}]->(B)\n",
    "               CREATE (D)-[:LINKED_TO {weight: 1}]->(B)\n",
    "               \"\"\")"
   ]
  },
  {
   "cell_type": "code",
   "execution_count": null,
   "metadata": {},
   "outputs": [],
   "source": [
    "## via GDS"
   ]
  },
  {
   "cell_type": "code",
   "execution_count": 15,
   "metadata": {},
   "outputs": [
    {
     "name": "stdout",
     "output_type": "stream",
     "text": [
      "Query failed: {code: Neo.ClientError.Procedure.ProcedureCallFailed} {message: Failed to invoke procedure `gds.graph.drop`: Caused by: java.lang.IllegalArgumentException: Graph with name `graph` does not exist and can't be removed.}\n"
     ]
    },
    {
     "data": {
      "text/plain": [
       "[<Record graphName='graph' nodeProjection={'Node': {'properties': {}, 'label': 'Node'}} relationshipProjection={'LINKED_TO': {'orientation': 'UNDIRECTED', 'aggregation': 'DEFAULT', 'type': 'LINKED_TO', 'properties': {'weight': {'property': 'weight', 'defaultValue': 1.0, 'aggregation': 'DEFAULT'}}}} nodeCount=4 relationshipCount=10 createMillis=5>]"
      ]
     },
     "execution_count": 15,
     "metadata": {},
     "output_type": "execute_result"
    }
   ],
   "source": [
    "gph_conn.query(\"\"\"\n",
    "               CALL gds.graph.drop(\"graph\")\n",
    "               \"\"\")\n",
    "gph_conn.query(\"\"\"\n",
    "               CALL gds.graph.create(\"graph\", \"Node\", {LINKED_TO: { relationship: \"LINKED_TO\", orientation: \"UNDIRECTED\", properties: {weight: {property: \"weight\",defaultValue: 1.0}}}})\n",
    "               \"\"\")"
   ]
  },
  {
   "cell_type": "code",
   "execution_count": 17,
   "metadata": {},
   "outputs": [
    {
     "data": {
      "text/plain": [
       "[<Record nodeName='B' score=1.0>,\n",
       " <Record nodeName='A' score=0.75>,\n",
       " <Record nodeName='D' score=0.75>,\n",
       " <Record nodeName='C' score=0.6>]"
      ]
     },
     "execution_count": 17,
     "metadata": {},
     "output_type": "execute_result"
    }
   ],
   "source": [
    "gph_conn.query(\"\"\"\n",
    "               CALL gds.alpha.closeness.stream(\"graph\", {})\n",
    "               YIELD nodeId, centrality AS score\n",
    "               RETURN gds.util.asNode(nodeId).name AS nodeName, score\n",
    "               ORDER BY score DESC\n",
    "               \"\"\")"
   ]
  },
  {
   "cell_type": "code",
   "execution_count": 20,
   "metadata": {},
   "outputs": [
    {
     "data": {
      "text/plain": [
       "[<Record nodeName='B' score=4.0>,\n",
       " <Record nodeName='A' score=0.0>,\n",
       " <Record nodeName='C' score=0.0>,\n",
       " <Record nodeName='D' score=0.0>]"
      ]
     },
     "execution_count": 20,
     "metadata": {},
     "output_type": "execute_result"
    }
   ],
   "source": [
    "gph_conn.query(\"\"\"\n",
    "               CALL gds.alpha.betweenness.stream(\"graph\", {})\n",
    "               YIELD nodeId, centrality AS score\n",
    "               RETURN gds.util.asNode(nodeId).name AS nodeName, score\n",
    "               ORDER BY score DESC\n",
    "               \"\"\")"
   ]
  }
 ],
 "metadata": {
  "kernelspec": {
   "display_name": "Python 3",
   "language": "python",
   "name": "python3"
  },
  "language_info": {
   "codemirror_mode": {
    "name": "ipython",
    "version": 3
   },
   "file_extension": ".py",
   "mimetype": "text/x-python",
   "name": "python",
   "nbconvert_exporter": "python",
   "pygments_lexer": "ipython3",
   "version": "3.6.6"
  }
 },
 "nbformat": 4,
 "nbformat_minor": 4
}
