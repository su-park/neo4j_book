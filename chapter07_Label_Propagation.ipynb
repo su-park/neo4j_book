{
 "cells": [
  {
   "cell_type": "code",
   "execution_count": null,
   "metadata": {},
   "outputs": [],
   "source": [
    "## AGENDA\n",
    "## - Page Rank"
   ]
  },
  {
   "cell_type": "code",
   "execution_count": null,
   "metadata": {},
   "outputs": [],
   "source": [
    "#from py2neo import Graph\n",
    "#graph = Graph(\"bolt://neo4j.sktai.io:30074\", auth=(\"neo4j\",\"!neo4j00\"))"
   ]
  },
  {
   "cell_type": "code",
   "execution_count": null,
   "metadata": {},
   "outputs": [],
   "source": [
    "# https://github.com/neo4j-contrib/neo4j-apoc-procedures/releases/tag/3.5.0.1\n",
    "#mv ./apoc-3.5.0.1-all.jar $Neo4J_HOME/plugins"
   ]
  },
  {
   "cell_type": "code",
   "execution_count": 1,
   "metadata": {},
   "outputs": [],
   "source": [
    "from neo4j import GraphDatabase\n",
    "class Neo4jConnection:\n",
    "    \n",
    "    def __init__(self, uri, user, pwd):\n",
    "        self.__uri = uri\n",
    "        self.__user = user\n",
    "        self.__pwd = pwd\n",
    "        self.__driver = None\n",
    "        try:\n",
    "            self.__driver = GraphDatabase.driver(self.__uri, auth=(self.__user, self.__pwd))\n",
    "        except Exception as e:\n",
    "            print(\"Failed to create the driver:\", e)\n",
    "        \n",
    "    def close(self):\n",
    "        if self.__driver is not None:\n",
    "            self.__driver.close()\n",
    "        \n",
    "    def query(self, query, db=None):\n",
    "        assert self.__driver is not None, \"Driver not initialized!\"\n",
    "        session = None\n",
    "        response = None\n",
    "        try: \n",
    "            session = self.__driver.session(database=db) if db is not None else self.__driver.session() \n",
    "            response = list(session.run(query))\n",
    "        except Exception as e:\n",
    "            print(\"Query failed:\", e)\n",
    "        finally: \n",
    "            if session is not None:\n",
    "                session.close()\n",
    "        return response"
   ]
  },
  {
   "cell_type": "code",
   "execution_count": 2,
   "metadata": {},
   "outputs": [],
   "source": [
    "#gph_conn = Neo4jConnection(uri=\"bolt://neo4j.sktai.io:30074\", user=\"neo4j\", pwd=\"!neo4j00\")\n",
    "#gph_conn = Neo4jConnection(uri=\"bolt://localhost:7687\", user=\"neo4j\", pwd=\"!neo4j00\")\n",
    "gph_conn = Neo4jConnection(uri=\"bolt://127.0.0.1:7687\", user=\"neo4j\", pwd=\"!neo4j00\")"
   ]
  },
  {
   "cell_type": "code",
   "execution_count": 3,
   "metadata": {},
   "outputs": [
    {
     "data": {
      "text/plain": [
       "[<Record nodes=[<Node id=-5 labels=frozenset({'Node'}) properties={'indexes': [], 'name': 'Node', 'constraints': []}>] relationships=[<Relationship id=-5 nodes=(<Node id=-5 labels=frozenset({'Node'}) properties={'indexes': [], 'name': 'Node', 'constraints': []}>, <Node id=-5 labels=frozenset({'Node'}) properties={'indexes': [], 'name': 'Node', 'constraints': []}>) type='LINKED_TO' properties={}>]>]"
      ]
     },
     "execution_count": 3,
     "metadata": {},
     "output_type": "execute_result"
    }
   ],
   "source": [
    "gph_conn.query(\"\"\"\n",
    "               CALL db.schema();\n",
    "               \"\"\")"
   ]
  },
  {
   "cell_type": "code",
   "execution_count": 4,
   "metadata": {},
   "outputs": [
    {
     "data": {
      "text/plain": [
       "[]"
      ]
     },
     "execution_count": 4,
     "metadata": {},
     "output_type": "execute_result"
    }
   ],
   "source": [
    "gph_conn.query(\"\"\"\n",
    "          MATCH (n)\n",
    "          DETACH DELETE n\n",
    "          \"\"\")"
   ]
  },
  {
   "cell_type": "code",
   "execution_count": null,
   "metadata": {},
   "outputs": [],
   "source": [
    "## SET DATA"
   ]
  },
  {
   "cell_type": "code",
   "execution_count": null,
   "metadata": {},
   "outputs": [],
   "source": [
    "G = {\n",
    "        'A': {'B': 1, 'C': 1},\n",
    "        'B': {'A': 1, 'C': 1},\n",
    "        'C': {'A': 1, 'B': 1, 'D': 1},\n",
    "        'D': {'C': 1, 'E': 1, 'G': 1},\n",
    "        'E': {'D': 1, 'F': 1, 'G': 1},\n",
    "        'F': {'E': 1, 'G': 1},\n",
    "        'G': {'D': 1, 'E': 1, 'F': 1},\n",
    "    }"
   ]
  },
  {
   "cell_type": "code",
   "execution_count": null,
   "metadata": {},
   "outputs": [],
   "source": [
    "## Label Propagation from scratch"
   ]
  },
  {
   "cell_type": "code",
   "execution_count": null,
   "metadata": {},
   "outputs": [],
   "source": [
    "from collections import Counter\n",
    "\n",
    "\n",
    "def label_propagation(G, max_iterations=100):\n",
    "    \"\"\"Returns the community of the nodes in G\n",
    "    based on the Label Propagation algorithm\n",
    "    :param dict G: the graph\n",
    "    :param int max_iter: max number of iterations\n",
    "    \"\"\"\n",
    "    # initialize labels\n",
    "    labels = {node:k  for k, node in enumerate(G)}\n",
    "    print(\"======= Initialization\")\n",
    "    print(labels)\n",
    "    \n",
    "    # main loop\n",
    "    for it in range(max_iterations):\n",
    "        print(\"======= Iteration\", it)\n",
    "        old_labels = dict(labels)\n",
    "        for node, neighbors in G.items():\n",
    "            # counting the number of votes from each neighbors:\n",
    "            votes = Counter([old_labels[n] for n in neighbors])\n",
    "            print(node, votes)\n",
    "            max_vote = -9999\n",
    "            new_label = old_labels[node]\n",
    "            for label, vote  in votes.items():\n",
    "                if vote > max_vote:\n",
    "                    max_vote = vote\n",
    "                    new_label = label\n",
    "                elif vote == max_vote:\n",
    "                    if label > new_label:\n",
    "                        new_label = label\n",
    "            labels[node] = new_label            \n",
    "        print(labels)\n",
    "        # check convergence\n",
    "        end = True\n",
    "        for node in G:\n",
    "            if old_labels[node] != labels[node]:\n",
    "                end = False\n",
    "                break\n",
    "        if end:\n",
    "            return labels\n",
    "    raise Exception(\n",
    "        f'Label propagation failed after max iteration = {max_iterations}'\n",
    "    )"
   ]
  },
  {
   "cell_type": "code",
   "execution_count": null,
   "metadata": {},
   "outputs": [],
   "source": [
    "## via GDS"
   ]
  },
  {
   "cell_type": "code",
   "execution_count": 5,
   "metadata": {},
   "outputs": [
    {
     "data": {
      "text/plain": [
       "[]"
      ]
     },
     "execution_count": 5,
     "metadata": {},
     "output_type": "execute_result"
    }
   ],
   "source": [
    "gph_conn.query(\"\"\"\n",
    "               MERGE (A:Node {name: \"A\"})\n",
    "               MERGE (B:Node {name: \"B\"})\n",
    "               MERGE (C:Node {name: \"C\"})\n",
    "               MERGE (D:Node {name: \"D\"})\n",
    "               MERGE (E:Node {name: \"E\"})\n",
    "               MERGE (F:Node {name: \"F\"})\n",
    "               MERGE (G:Node {name: \"G\"})\n",
    "               MERGE (Y:Node {name: \"Y\"})\n",
    "               MERGE (Z:Node {name: \"Z\"})\n",
    "\n",
    "               MERGE (A)-[:LINKED_TO]->(B)\n",
    "               MERGE (B)-[:LINKED_TO]->(C)\n",
    "               MERGE (C)-[:LINKED_TO]->(A)\n",
    "               MERGE (D)-[:LINKED_TO]->(C)\n",
    "               MERGE (D)-[:LINKED_TO]->(E)\n",
    "               MERGE (E)-[:LINKED_TO]->(D)\n",
    "               MERGE (E)-[:LINKED_TO]->(G)\n",
    "               MERGE (F)-[:LINKED_TO]->(E)\n",
    "               MERGE (G)-[:LINKED_TO]->(D)\n",
    "               MERGE (G)-[:LINKED_TO]->(F)\n",
    "               MERGE (Y)-[:LINKED_TO]->(Z)\n",
    "               MERGE (Z)-[:LINKED_TO]->(Y)\n",
    "               \"\"\")"
   ]
  },
  {
   "cell_type": "code",
   "execution_count": 7,
   "metadata": {},
   "outputs": [
    {
     "data": {
      "text/plain": [
       "[<Record graphName='graph' nodeProjection={'Node': {'properties': {}, 'label': 'Node'}} relationshipProjection={'LINKED_TO': {'orientation': 'UNDIRECTED', 'aggregation': 'DEFAULT', 'type': 'LINKED_TO', 'properties': {}}} nodeCount=9 relationshipCount=24 createMillis=3>]"
      ]
     },
     "execution_count": 7,
     "metadata": {},
     "output_type": "execute_result"
    }
   ],
   "source": [
    "gph_conn.query(\"\"\"\n",
    "               CALL gds.graph.drop(\"graph\")\n",
    "               \"\"\")\n",
    "gph_conn.query(\"\"\"\n",
    "               CALL gds.graph.create(\"graph\", \"Node\", {LINKED_TO: {type: 'LINKED_TO', orientation: 'UNDIRECTED'}})\n",
    "               \"\"\")"
   ]
  },
  {
   "cell_type": "code",
   "execution_count": 8,
   "metadata": {},
   "outputs": [
    {
     "data": {
      "text/plain": [
       "[<Record nodeName='A' communityId=1>,\n",
       " <Record nodeName='B' communityId=1>,\n",
       " <Record nodeName='C' communityId=1>,\n",
       " <Record nodeName='D' communityId=30>,\n",
       " <Record nodeName='E' communityId=30>,\n",
       " <Record nodeName='F' communityId=30>,\n",
       " <Record nodeName='G' communityId=30>,\n",
       " <Record nodeName='Y' communityId=34>,\n",
       " <Record nodeName='Z' communityId=34>]"
      ]
     },
     "execution_count": 8,
     "metadata": {},
     "output_type": "execute_result"
    }
   ],
   "source": [
    "gph_conn.query(\"\"\"\n",
    "               CALL gds.labelPropagation.stream(\"graph\")\n",
    "               YIELD nodeId, communityId\n",
    "               RETURN gds.util.asNode(nodeId).name AS nodeName, communityId\n",
    "               ORDER BY communityId\n",
    "               \"\"\")"
   ]
  },
  {
   "cell_type": "code",
   "execution_count": 12,
   "metadata": {},
   "outputs": [
    {
     "data": {
      "text/plain": [
       "[]"
      ]
     },
     "execution_count": 12,
     "metadata": {},
     "output_type": "execute_result"
    }
   ],
   "source": [
    "## Prior Knowledge on Membership\n",
    "gph_conn.query(\"\"\"\n",
    "               MATCH (A:Node {name: \"A\"}) SET A.knownCommunity = 0\n",
    "               \"\"\")\n",
    "gph_conn.query(\"\"\"\n",
    "               MATCH (B:Node {name: \"B\"}) SET B.knownCommunity = 0\n",
    "               \"\"\")\n",
    "gph_conn.query(\"\"\"\n",
    "               MATCH (F:Node {name: \"F\"}) SET F.knownCommunity = 1\n",
    "               \"\"\")\n",
    "gph_conn.query(\"\"\"\n",
    "               MATCH (G:Node {name: \"G\"}) SET G.knownCommunity = 1\n",
    "               \"\"\")"
   ]
  },
  {
   "cell_type": "code",
   "execution_count": 14,
   "metadata": {},
   "outputs": [
    {
     "name": "stdout",
     "output_type": "stream",
     "text": [
      "Query failed: {code: Neo.ClientError.Procedure.ProcedureCallFailed} {message: Failed to invoke procedure `gds.graph.drop`: Caused by: java.lang.IllegalArgumentException: Graph with name `graph` does not exist and can't be removed.}\n"
     ]
    },
    {
     "data": {
      "text/plain": [
       "[<Record graphName='graph' nodeProjection={'Node': {'properties': {'knownCommunity': {'property': 'knownCommunity', 'defaultValue': nan}}, 'label': 'Node'}} relationshipProjection={'LINKED_TO': {'orientation': 'UNDIRECTED', 'aggregation': 'DEFAULT', 'type': 'LINKED_TO', 'properties': {}}} nodeCount=9 relationshipCount=24 createMillis=16>]"
      ]
     },
     "execution_count": 14,
     "metadata": {},
     "output_type": "execute_result"
    }
   ],
   "source": [
    "gph_conn.query(\"\"\"\n",
    "               CALL gds.graph.drop(\"graph\")\n",
    "               \"\"\")\n",
    "gph_conn.query(\"\"\"\n",
    "               CALL gds.graph.create(\"graph\", {Node: {label: \"Node\", properties: \"knownCommunity\"}}, \n",
    "                                              {LINKED_TO: {type: 'LINKED_TO', orientation: 'UNDIRECTED'}})\n",
    "               \"\"\")"
   ]
  },
  {
   "cell_type": "code",
   "execution_count": 15,
   "metadata": {},
   "outputs": [
    {
     "data": {
      "text/plain": [
       "[<Record nodeName='A' communityId=0>,\n",
       " <Record nodeName='B' communityId=0>,\n",
       " <Record nodeName='C' communityId=0>,\n",
       " <Record nodeName='D' communityId=1>,\n",
       " <Record nodeName='E' communityId=1>,\n",
       " <Record nodeName='F' communityId=1>,\n",
       " <Record nodeName='G' communityId=1>,\n",
       " <Record nodeName='Y' communityId=36>,\n",
       " <Record nodeName='Z' communityId=36>]"
      ]
     },
     "execution_count": 15,
     "metadata": {},
     "output_type": "execute_result"
    }
   ],
   "source": [
    "gph_conn.query(\"\"\"\n",
    "               CALL gds.labelPropagation.stream(\"graph\", {seedProperty: \"knownCommunity\"})\n",
    "               YIELD nodeId, communityId\n",
    "               RETURN gds.util.asNode(nodeId).name AS nodeName, communityId\n",
    "               ORDER BY communityId\n",
    "               \"\"\")"
   ]
  }
 ],
 "metadata": {
  "kernelspec": {
   "display_name": "Python 3",
   "language": "python",
   "name": "python3"
  },
  "language_info": {
   "codemirror_mode": {
    "name": "ipython",
    "version": 3
   },
   "file_extension": ".py",
   "mimetype": "text/x-python",
   "name": "python",
   "nbconvert_exporter": "python",
   "pygments_lexer": "ipython3",
   "version": "3.6.6"
  }
 },
 "nbformat": 4,
 "nbformat_minor": 4
}
