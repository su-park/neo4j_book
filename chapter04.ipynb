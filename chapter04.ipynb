{
 "cells": [
  {
   "cell_type": "code",
   "execution_count": null,
   "metadata": {},
   "outputs": [],
   "source": [
    "#from py2neo import Graph\n",
    "#graph = Graph(\"bolt://neo4j.sktai.io:30074\", auth=(\"neo4j\",\"!neo4j00\"))"
   ]
  },
  {
   "cell_type": "code",
   "execution_count": null,
   "metadata": {},
   "outputs": [],
   "source": [
    "# https://github.com/neo4j-contrib/neo4j-apoc-procedures/releases/tag/3.5.0.1\n",
    "#mv ./apoc-3.5.0.1-all.jar $Neo4J_HOME/plugins"
   ]
  },
  {
   "cell_type": "code",
   "execution_count": 1,
   "metadata": {},
   "outputs": [],
   "source": [
    "from neo4j import GraphDatabase\n",
    "class Neo4jConnection:\n",
    "    \n",
    "    def __init__(self, uri, user, pwd):\n",
    "        self.__uri = uri\n",
    "        self.__user = user\n",
    "        self.__pwd = pwd\n",
    "        self.__driver = None\n",
    "        try:\n",
    "            self.__driver = GraphDatabase.driver(self.__uri, auth=(self.__user, self.__pwd))\n",
    "        except Exception as e:\n",
    "            print(\"Failed to create the driver:\", e)\n",
    "        \n",
    "    def close(self):\n",
    "        if self.__driver is not None:\n",
    "            self.__driver.close()\n",
    "        \n",
    "    def query(self, query, db=None):\n",
    "        assert self.__driver is not None, \"Driver not initialized!\"\n",
    "        session = None\n",
    "        response = None\n",
    "        try: \n",
    "            session = self.__driver.session(database=db) if db is not None else self.__driver.session() \n",
    "            response = list(session.run(query))\n",
    "        except Exception as e:\n",
    "            print(\"Query failed:\", e)\n",
    "        finally: \n",
    "            if session is not None:\n",
    "                session.close()\n",
    "        return response"
   ]
  },
  {
   "cell_type": "code",
   "execution_count": 20,
   "metadata": {},
   "outputs": [],
   "source": [
    "#gph_conn = Neo4jConnection(uri=\"bolt://neo4j.sktai.io:30074\", user=\"neo4j\", pwd=\"!neo4j00\")\n",
    "gph_conn = Neo4jConnection(uri=\"bolt://127.0.0.1:7687\", user=\"neo4j\", pwd=\"!neo4j00\")"
   ]
  },
  {
   "cell_type": "code",
   "execution_count": 21,
   "metadata": {},
   "outputs": [
    {
     "data": {
      "text/plain": [
       "[<Record nodes=[<Node id=-1 labels=frozenset({'User'}) properties={'indexes': [], 'name': 'User', 'constraints': []}>] relationships=[<Relationship id=-1 nodes=(<Node id=-1 labels=frozenset({'User'}) properties={'indexes': [], 'name': 'User', 'constraints': []}>, <Node id=-1 labels=frozenset({'User'}) properties={'indexes': [], 'name': 'User', 'constraints': []}>) type='IS_FRIENDS_WITH' properties={}>]>]"
      ]
     },
     "execution_count": 21,
     "metadata": {},
     "output_type": "execute_result"
    }
   ],
   "source": [
    "gph_conn.query(\"\"\"\n",
    "               CALL db.schema();\n",
    "               \"\"\")"
   ]
  },
  {
   "cell_type": "code",
   "execution_count": 5,
   "metadata": {},
   "outputs": [
    {
     "data": {
      "text/plain": [
       "[]"
      ]
     },
     "execution_count": 5,
     "metadata": {},
     "output_type": "execute_result"
    }
   ],
   "source": [
    "gph_conn.query(\"\"\"\n",
    "          MATCH (n)\n",
    "          DETACH DELETE n\n",
    "          \"\"\")"
   ]
  },
  {
   "cell_type": "code",
   "execution_count": null,
   "metadata": {},
   "outputs": [],
   "source": [
    "## SET LIBRARY"
   ]
  },
  {
   "cell_type": "code",
   "execution_count": 12,
   "metadata": {},
   "outputs": [
    {
     "name": "stderr",
     "output_type": "stream",
     "text": [
      "/Users/boO/.pyenv/versions/3.6.6/lib/python3.6/site-packages/pandas/compat/__init__.py:120: UserWarning: Could not import the lzma module. Your installed Python is incomplete. Attempting to use lzma compression will result in a RuntimeError.\n",
      "  warnings.warn(msg)\n"
     ]
    }
   ],
   "source": [
    "import numpy as np\n",
    "import pandas as pd"
   ]
  },
  {
   "cell_type": "code",
   "execution_count": null,
   "metadata": {},
   "outputs": [],
   "source": [
    "## SET WORK PATH"
   ]
  },
  {
   "cell_type": "code",
   "execution_count": 13,
   "metadata": {},
   "outputs": [],
   "source": [
    "import os"
   ]
  },
  {
   "cell_type": "code",
   "execution_count": 14,
   "metadata": {},
   "outputs": [],
   "source": [
    "#work_path = '/home/dmig/work/this-book/neo4j-book'\n",
    "work_path = '/Users/boO/data8/data.student/neo4j-book/neo4j-book'\n",
    "os.chdir(work_path)"
   ]
  },
  {
   "cell_type": "code",
   "execution_count": 18,
   "metadata": {},
   "outputs": [],
   "source": [
    "tbl = pd.read_csv(\"{}/data/train.csv\".format(work_path))"
   ]
  },
  {
   "cell_type": "code",
   "execution_count": null,
   "metadata": {},
   "outputs": [],
   "source": [
    "tbl.shape"
   ]
  },
  {
   "cell_type": "code",
   "execution_count": null,
   "metadata": {},
   "outputs": [],
   "source": [
    "tbl.head()"
   ]
  },
  {
   "cell_type": "code",
   "execution_count": null,
   "metadata": {},
   "outputs": [],
   "source": [
    "node_id = np.union1d(tbl.source_node.unique(), tbl.destination_node.unique())\n",
    "# len(node_id) # 1,862,220\n",
    "#node_id = np.random.choice(node_id, size=100000, replace=False)\n",
    "node_id = pd.DataFrame(node_id, columns=['id:ID'])\n",
    "node_id[':LABEL'] = 'User'\n",
    "node_id.to_csv(\"{}/data/node.csv\".format(work_path), index=False)"
   ]
  },
  {
   "cell_type": "code",
   "execution_count": 16,
   "metadata": {},
   "outputs": [],
   "source": [
    "tbl.columns = [':START_ID',':END_ID']\n",
    "tbl[':TYPE'] = 'IS_FRIENDS_WITH'\n",
    "tbl.to_csv(\"{}/data/edge.csv\".format(work_path), index=False)"
   ]
  },
  {
   "cell_type": "code",
   "execution_count": null,
   "metadata": {},
   "outputs": [],
   "source": [
    "## LOAD DATA"
   ]
  },
  {
   "cell_type": "code",
   "execution_count": null,
   "metadata": {},
   "outputs": [],
   "source": [
    "!bin/neo4j-admin import --nodes=import/node.csv --relationships=import/edge.csv"
   ]
  },
  {
   "cell_type": "code",
   "execution_count": null,
   "metadata": {},
   "outputs": [],
   "source": [
    "## IT NEVER ENDS\n",
    "gph_conn.query(\"\"\"\n",
    "               // USING PERIODIC COMMIT 500\n",
    "               LOAD CSV WITH HEADERS FROM 'file:///train.csv' AS row\n",
    "               MERGE (:User {id: row.source_node})\n",
    "               \"\"\")\n",
    "gph_conn.query(\"\"\"\n",
    "               LOAD CSV WITH HEADERS FROM 'file:///train.csv' AS row\n",
    "               MERGE (:User {id: row.destination_node})\n",
    "               \"\"\")\n",
    "gph_conn.query(\"\"\"\n",
    "               LOAD CSV WITH HEADERS FROM 'file:///train.csv' AS row\n",
    "               MATCH (s:User {id: row.source_node}) \n",
    "               MATCH (d:User {id: row.destination_node}) \n",
    "               MERGE (s)-[:IS_FRIENDS_WITH]->(d)\n",
    "               \"\"\")"
   ]
  },
  {
   "cell_type": "code",
   "execution_count": null,
   "metadata": {},
   "outputs": [],
   "source": [
    "gph_conn.query(\"\"\"\n",
    "               CALL db.schema();\n",
    "               \"\"\")"
   ]
  },
  {
   "cell_type": "code",
   "execution_count": 22,
   "metadata": {},
   "outputs": [
    {
     "data": {
      "text/plain": [
       "[<Record u=<Node id=0 labels=frozenset({'User'}) properties={'id': '1'}>>]"
      ]
     },
     "execution_count": 22,
     "metadata": {},
     "output_type": "execute_result"
    }
   ],
   "source": [
    "gph_conn.query(\"\"\"\n",
    "               PROFILE\n",
    "               MATCH (u {id:\"1\"})\n",
    "               RETURN u\n",
    "               \"\"\")"
   ]
  },
  {
   "cell_type": "code",
   "execution_count": null,
   "metadata": {},
   "outputs": [],
   "source": [
    "gph_conn.query(\"\"\"\n",
    "               PROFILE\n",
    "               MATCH (u:User {id:\"1\"})\n",
    "               RETURN u\n",
    "               \"\"\")"
   ]
  },
  {
   "cell_type": "code",
   "execution_count": 23,
   "metadata": {},
   "outputs": [
    {
     "data": {
      "text/plain": [
       "[]"
      ]
     },
     "execution_count": 23,
     "metadata": {},
     "output_type": "execute_result"
    }
   ],
   "source": [
    "gph_conn.query(\"\"\"\n",
    "               CREATE INDEX ON :User(id)\n",
    "               \"\"\")"
   ]
  },
  {
   "cell_type": "code",
   "execution_count": null,
   "metadata": {},
   "outputs": [],
   "source": [
    "gph_conn.query(\"\"\"\n",
    "               PROFILE\n",
    "               MATCH (u:User {id:\"1\"})\n",
    "               RETURN u\n",
    "               \"\"\")"
   ]
  },
  {
   "cell_type": "code",
   "execution_count": 24,
   "metadata": {},
   "outputs": [
    {
     "data": {
      "text/plain": [
       "[<Record COUNT(b.id)=6>]"
      ]
     },
     "execution_count": 24,
     "metadata": {},
     "output_type": "execute_result"
    }
   ],
   "source": [
    "gph_conn.query(\"\"\"\n",
    "               MATCH (a:User {id:\"3\"})-[:IS_FRIENDS_WITH]->(b:User)\n",
    "               RETURN COUNT(b.id)\n",
    "               \"\"\")"
   ]
  },
  {
   "cell_type": "code",
   "execution_count": null,
   "metadata": {},
   "outputs": [],
   "source": [
    "gph_conn.query(\"\"\"\n",
    "               EXPLAIN\n",
    "               LOAD CSV WITH HEADERS FROM 'file:///train.csv' AS row\n",
    "               MATCH (s:User {id: row.source_node}) \n",
    "               MATCH (d:User {id: row.destination_node}) \n",
    "               MERGE (s)-[:IS_FRIENDS_WITH]->(d)\n",
    "               \"\"\")"
   ]
  },
  {
   "cell_type": "code",
   "execution_count": 9,
   "metadata": {},
   "outputs": [
    {
     "data": {
      "text/plain": [
       "[<Record item={'stargazers_count': 3, 'pushed_at': '2019-01-15T04:05:09Z', 'subscription_url': 'https://api.github.com/repos/neo4j/parents/subscription', 'language': None, 'branches_url': 'https://api.github.com/repos/neo4j/parents/branches{/branch}', 'issue_comment_url': 'https://api.github.com/repos/neo4j/parents/issues/comments{/number}', 'labels_url': 'https://api.github.com/repos/neo4j/parents/labels{/name}', 'subscribers_url': 'https://api.github.com/repos/neo4j/parents/subscribers', 'permissions': {'admin': False, 'pull': True, 'push': False}, 'releases_url': 'https://api.github.com/repos/neo4j/parents/releases{/id}', 'svn_url': 'https://github.com/neo4j/parents', 'id': 1315642, 'forks': 8, 'archive_url': 'https://api.github.com/repos/neo4j/parents/{archive_format}{/ref}', 'git_refs_url': 'https://api.github.com/repos/neo4j/parents/git/refs{/sha}', 'forks_url': 'https://api.github.com/repos/neo4j/parents/forks', 'statuses_url': 'https://api.github.com/repos/neo4j/parents/statuses/{sha}', 'ssh_url': 'git@github.com:neo4j/parents.git', 'license': None, 'full_name': 'neo4j/parents', 'size': 293, 'languages_url': 'https://api.github.com/repos/neo4j/parents/languages', 'html_url': 'https://github.com/neo4j/parents', 'collaborators_url': 'https://api.github.com/repos/neo4j/parents/collaborators{/collaborator}', 'clone_url': 'https://github.com/neo4j/parents.git', 'name': 'parents', 'pulls_url': 'https://api.github.com/repos/neo4j/parents/pulls{/number}', 'default_branch': 'master', 'hooks_url': 'https://api.github.com/repos/neo4j/parents/hooks', 'trees_url': 'https://api.github.com/repos/neo4j/parents/git/trees{/sha}', 'tags_url': 'https://api.github.com/repos/neo4j/parents/tags', 'private': False, 'contributors_url': 'https://api.github.com/repos/neo4j/parents/contributors', 'has_downloads': True, 'notifications_url': 'https://api.github.com/repos/neo4j/parents/notifications{?since,all,participating}', 'open_issues_count': 2, 'description': 'Neo4j Build Configuration', 'created_at': '2011-02-01T09:51:08Z', 'watchers': 3, 'keys_url': 'https://api.github.com/repos/neo4j/parents/keys{/key_id}', 'deployments_url': 'https://api.github.com/repos/neo4j/parents/deployments', 'has_projects': True, 'archived': False, 'has_wiki': True, 'updated_at': '2019-12-26T13:35:08Z', 'comments_url': 'https://api.github.com/repos/neo4j/parents/comments{/number}', 'stargazers_url': 'https://api.github.com/repos/neo4j/parents/stargazers', 'disabled': False, 'git_url': 'git://github.com/neo4j/parents.git', 'has_pages': False, 'owner': {'gists_url': 'https://api.github.com/users/neo4j/gists{/gist_id}', 'repos_url': 'https://api.github.com/users/neo4j/repos', 'following_url': 'https://api.github.com/users/neo4j/following{/other_user}', 'starred_url': 'https://api.github.com/users/neo4j/starred{/owner}{/repo}', 'login': 'neo4j', 'followers_url': 'https://api.github.com/users/neo4j/followers', 'type': 'Organization', 'url': 'https://api.github.com/users/neo4j', 'subscriptions_url': 'https://api.github.com/users/neo4j/subscriptions', 'received_events_url': 'https://api.github.com/users/neo4j/received_events', 'avatar_url': 'https://avatars3.githubusercontent.com/u/201120?v=4', 'events_url': 'https://api.github.com/users/neo4j/events{/privacy}', 'html_url': 'https://github.com/neo4j', 'site_admin': False, 'id': 201120, 'gravatar_id': '', 'node_id': 'MDEyOk9yZ2FuaXphdGlvbjIwMTEyMA==', 'organizations_url': 'https://api.github.com/users/neo4j/orgs'}, 'commits_url': 'https://api.github.com/repos/neo4j/parents/commits{/sha}', 'compare_url': 'https://api.github.com/repos/neo4j/parents/compare/{base}...{head}', 'git_commits_url': 'https://api.github.com/repos/neo4j/parents/git/commits{/sha}', 'blobs_url': 'https://api.github.com/repos/neo4j/parents/git/blobs{/sha}', 'git_tags_url': 'https://api.github.com/repos/neo4j/parents/git/tags{/sha}', 'merges_url': 'https://api.github.com/repos/neo4j/parents/merges', 'downloads_url': 'https://api.github.com/repos/neo4j/parents/downloads', 'has_issues': True, 'url': 'https://api.github.com/repos/neo4j/parents', 'contents_url': 'https://api.github.com/repos/neo4j/parents/contents/{+path}', 'mirror_url': None, 'milestones_url': 'https://api.github.com/repos/neo4j/parents/milestones{/number}', 'teams_url': 'https://api.github.com/repos/neo4j/parents/teams', 'fork': False, 'issues_url': 'https://api.github.com/repos/neo4j/parents/issues{/number}', 'events_url': 'https://api.github.com/repos/neo4j/parents/events', 'issue_events_url': 'https://api.github.com/repos/neo4j/parents/issues/events{/number}', 'assignees_url': 'https://api.github.com/repos/neo4j/parents/assignees{/user}', 'open_issues': 2, 'watchers_count': 3, 'node_id': 'MDEwOlJlcG9zaXRvcnkxMzE1NjQy', 'homepage': 'http://neo4j.org/', 'forks_count': 8}>]"
      ]
     },
     "execution_count": 9,
     "metadata": {},
     "output_type": "execute_result"
    }
   ],
   "source": [
    "gph_conn.query(\"\"\"\n",
    "               CALL apoc.load.json(\"neo4j_repos_github.json\")\n",
    "               YIELD value AS item \n",
    "               RETURN item \n",
    "               LIMIT 1\n",
    "               \"\"\")"
   ]
  },
  {
   "cell_type": "code",
   "execution_count": 10,
   "metadata": {},
   "outputs": [
    {
     "data": {
      "text/plain": [
       "[]"
      ]
     },
     "execution_count": 10,
     "metadata": {},
     "output_type": "execute_result"
    }
   ],
   "source": [
    "gph_conn.query(\"\"\"\n",
    "               CALL apoc.load.json(\"neo4j_repos_github.json\")\n",
    "               YIELD value AS item\n",
    "               CREATE (\n",
    "                       r:Repository {\n",
    "                                     name: item.name\n",
    "               ,                     created_at: item.created_at\n",
    "               ,                     contributors_url: item.contributors_url\n",
    "               })\n",
    "               MERGE (u:User {login: item.owner.login})\n",
    "               CREATE (u)-[:OWNS]->(r)\n",
    "               \"\"\")"
   ]
  }
 ],
 "metadata": {
  "kernelspec": {
   "display_name": "Python 3",
   "language": "python",
   "name": "python3"
  },
  "language_info": {
   "codemirror_mode": {
    "name": "ipython",
    "version": 3
   },
   "file_extension": ".py",
   "mimetype": "text/x-python",
   "name": "python",
   "nbconvert_exporter": "python",
   "pygments_lexer": "ipython3",
   "version": "3.6.6"
  }
 },
 "nbformat": 4,
 "nbformat_minor": 4
}
